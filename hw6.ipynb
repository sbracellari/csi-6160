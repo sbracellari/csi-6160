{
 "cells": [
  {
   "cell_type": "code",
   "execution_count": 274,
   "metadata": {},
   "outputs": [
    {
     "data": {
      "text/html": [
       "<div>\n",
       "<style>\n",
       ".pl-dataframe > thead > tr > th {\n",
       "  text-align: right;\n",
       "}\n",
       "</style>\n",
       "\n",
       "<table border=\"1\" class=\"dataframe pl-dataframe\">\n",
       "<small>shape: (5, 6)</small>\n",
       "<thead>\n",
       "<tr>\n",
       "<th>\n",
       "column_1\n",
       "</th>\n",
       "<th>\n",
       "column_2\n",
       "</th>\n",
       "<th>\n",
       "column_3\n",
       "</th>\n",
       "<th>\n",
       "column_4\n",
       "</th>\n",
       "<th>\n",
       "Label\n",
       "</th>\n",
       "<th>\n",
       "Label_Int\n",
       "</th>\n",
       "</tr>\n",
       "<tr>\n",
       "<td>\n",
       "f64\n",
       "</td>\n",
       "<td>\n",
       "f64\n",
       "</td>\n",
       "<td>\n",
       "f64\n",
       "</td>\n",
       "<td>\n",
       "f64\n",
       "</td>\n",
       "<td>\n",
       "str\n",
       "</td>\n",
       "<td>\n",
       "u32\n",
       "</td>\n",
       "</tr>\n",
       "</thead>\n",
       "<tbody>\n",
       "<tr>\n",
       "<td>\n",
       "6.8\n",
       "</td>\n",
       "<td>\n",
       "3.2\n",
       "</td>\n",
       "<td>\n",
       "5.9\n",
       "</td>\n",
       "<td>\n",
       "2.3\n",
       "</td>\n",
       "<td>\n",
       "&quot;Iris-virginica...\n",
       "</td>\n",
       "<td>\n",
       "2\n",
       "</td>\n",
       "</tr>\n",
       "<tr>\n",
       "<td>\n",
       "6.7\n",
       "</td>\n",
       "<td>\n",
       "3.3\n",
       "</td>\n",
       "<td>\n",
       "5.7\n",
       "</td>\n",
       "<td>\n",
       "2.5\n",
       "</td>\n",
       "<td>\n",
       "&quot;Iris-virginica...\n",
       "</td>\n",
       "<td>\n",
       "2\n",
       "</td>\n",
       "</tr>\n",
       "<tr>\n",
       "<td>\n",
       "6.3\n",
       "</td>\n",
       "<td>\n",
       "2.5\n",
       "</td>\n",
       "<td>\n",
       "5.0\n",
       "</td>\n",
       "<td>\n",
       "1.9\n",
       "</td>\n",
       "<td>\n",
       "&quot;Iris-virginica...\n",
       "</td>\n",
       "<td>\n",
       "2\n",
       "</td>\n",
       "</tr>\n",
       "<tr>\n",
       "<td>\n",
       "6.5\n",
       "</td>\n",
       "<td>\n",
       "3.0\n",
       "</td>\n",
       "<td>\n",
       "5.2\n",
       "</td>\n",
       "<td>\n",
       "2.0\n",
       "</td>\n",
       "<td>\n",
       "&quot;Iris-virginica...\n",
       "</td>\n",
       "<td>\n",
       "2\n",
       "</td>\n",
       "</tr>\n",
       "<tr>\n",
       "<td>\n",
       "5.9\n",
       "</td>\n",
       "<td>\n",
       "3.0\n",
       "</td>\n",
       "<td>\n",
       "5.1\n",
       "</td>\n",
       "<td>\n",
       "1.8\n",
       "</td>\n",
       "<td>\n",
       "&quot;Iris-virginica...\n",
       "</td>\n",
       "<td>\n",
       "2\n",
       "</td>\n",
       "</tr>\n",
       "</tbody>\n",
       "</table>\n",
       "</div>"
      ],
      "text/plain": [
       "shape: (5, 6)\n",
       "┌──────────┬──────────┬──────────┬──────────┬────────────────┬───────────┐\n",
       "│ column_1 ┆ column_2 ┆ column_3 ┆ column_4 ┆ Label          ┆ Label_Int │\n",
       "│ ---      ┆ ---      ┆ ---      ┆ ---      ┆ ---            ┆ ---       │\n",
       "│ f64      ┆ f64      ┆ f64      ┆ f64      ┆ str            ┆ u32       │\n",
       "╞══════════╪══════════╪══════════╪══════════╪════════════════╪═══════════╡\n",
       "│ 6.8      ┆ 3.2      ┆ 5.9      ┆ 2.3      ┆ Iris-virginica ┆ 2         │\n",
       "│ 6.7      ┆ 3.3      ┆ 5.7      ┆ 2.5      ┆ Iris-virginica ┆ 2         │\n",
       "│ 6.3      ┆ 2.5      ┆ 5.0      ┆ 1.9      ┆ Iris-virginica ┆ 2         │\n",
       "│ 6.5      ┆ 3.0      ┆ 5.2      ┆ 2.0      ┆ Iris-virginica ┆ 2         │\n",
       "│ 5.9      ┆ 3.0      ┆ 5.1      ┆ 1.8      ┆ Iris-virginica ┆ 2         │\n",
       "└──────────┴──────────┴──────────┴──────────┴────────────────┴───────────┘"
      ]
     },
     "execution_count": 274,
     "metadata": {},
     "output_type": "execute_result"
    }
   ],
   "source": [
    "from sklearn.model_selection import StratifiedKFold\n",
    "import polars as pl\n",
    "import numpy as np\n",
    "\n",
    "TARGET = 'Label_Int'\n",
    "CLUSTERS = 3\n",
    "\n",
    "def fetch_data(df, use_split):\n",
    "    assert(use_split >= 0 and use_split <= 4)\n",
    "    # perform 5-fold cross validation with a deterministic seed\n",
    "    kf = StratifiedKFold(n_splits=5, shuffle=True, random_state=2028)\n",
    "    split_x, split_y = get_x_y(df)\n",
    "    splits = list(kf.split(split_x, split_y))\n",
    "\n",
    "    # indexing the dataframe with an array returns the appropriate splits\n",
    "    df_train, df_test = df[splits[use_split][0]], df[splits[use_split][1]]\n",
    "    return df_train, df_test\n",
    "\n",
    "def get_x_y(df):\n",
    "    df = df.drop(\"Label\")\n",
    "    X, y = df.drop(TARGET).to_numpy(), df.get_column(TARGET)\n",
    "    return X, y.to_numpy()\n",
    "\n",
    "df = pl.read_csv('iris.data', has_header=False)\n",
    "df = df.rename({\"column_5\": \"Label\"})\n",
    "df = df.with_columns(pl.col(\"Label\").cast(pl.Categorical).to_physical().alias(TARGET))\n",
    "df_train, df_test = fetch_data(df, 1)\n",
    "X_train, y_train = get_x_y(df_train)\n",
    "X_test, y_test = get_x_y(df_test)\n",
    "df_train.tail()"
   ]
  },
  {
   "cell_type": "code",
   "execution_count": 275,
   "metadata": {},
   "outputs": [
    {
     "data": {
      "text/plain": [
       "{0: 'Iris-setosa', 1: 'Iris-versicolor', 2: 'Iris-virginica'}"
      ]
     },
     "execution_count": 275,
     "metadata": {},
     "output_type": "execute_result"
    }
   ],
   "source": [
    "ID_TO_NAME = {}\n",
    "NAME_TO_ID = {}\n",
    "for p in df.partition_by(\"Label\"):\n",
    "    label = p.row(0)[-2]\n",
    "    id = p.row(0)[-1]\n",
    "    ID_TO_NAME[id] = label\n",
    "    NAME_TO_ID[label] = id\n",
    "ID_TO_NAME"
   ]
  },
  {
   "cell_type": "code",
   "execution_count": 276,
   "metadata": {},
   "outputs": [
    {
     "data": {
      "text/plain": [
       "0.9"
      ]
     },
     "execution_count": 276,
     "metadata": {},
     "output_type": "execute_result"
    }
   ],
   "source": [
    "from sklearn.cluster import KMeans\n",
    "import numpy as np\n",
    "\n",
    "model = KMeans(n_clusters=CLUSTERS, random_state=2028, n_init=10)\n",
    "model.fit(X_train)\n",
    "\n",
    "preds = model.predict(X_test)\n",
    "np.count_nonzero(preds == y_test) / len(y_test)"
   ]
  },
  {
   "cell_type": "code",
   "execution_count": 277,
   "metadata": {},
   "outputs": [
    {
     "data": {
      "text/plain": [
       "0.9"
      ]
     },
     "execution_count": 277,
     "metadata": {},
     "output_type": "execute_result"
    }
   ],
   "source": [
    "import numpy as np\n",
    "from numpy.random import Generator, PCG64\n",
    "import random\n",
    "\n",
    "def euclidean(p1, p2):\n",
    "    return np.sqrt(np.sum((p1 - p2)**2, axis=1))\n",
    "\n",
    "# for each point, find the closest centroid & assign to a cluster\n",
    "def assign_clusters(X, centroids):\n",
    "    return [np.argmin(euclidean(x, centroids)) for x in X]\n",
    "\n",
    "def score_clusters(X, centroids):\n",
    "    return sum([np.min(euclidean(x, centroids)) for x in X])\n",
    "    \n",
    "# update the centroids\n",
    "def update_centroids(X, clusters):\n",
    "    centroids = []\n",
    "\n",
    "    for c in set(clusters):\n",
    "        cluster = X[np.where(clusters == c)[0]]\n",
    "        mean = cluster.mean(axis=0)\n",
    "        centroids.append(mean)\n",
    "    return centroids\n",
    "\n",
    "# initialize centroids using kmeans++ method\n",
    "def initialize_centroids(X, n_clusters, seed):\n",
    "    # randomly initialize one centroid.\n",
    "    gen = Generator(PCG64(seed=seed))\n",
    "    centroids = [gen.choice(X_train)]\n",
    "\n",
    "    for _ in range(n_clusters - 1):\n",
    "        distances = np.sum([euclidean(X_train, centroid) for centroid in centroids], axis=0)            \n",
    "        distances /= np.sum(distances) # normalize\n",
    "\n",
    "        # choose centroids probabilistically based on distance\n",
    "        centroid_idx = gen.choice(range(len(X_train)), size=1, p=distances)[0]\n",
    "        centroids += [X_train[centroid_idx]]\n",
    "    return centroids\n",
    "\n",
    "class K_Means():\n",
    "    def __init__(self, n_clusters, epochs=350, seed=482023, n_init=10):\n",
    "        self.n_clusters = n_clusters\n",
    "        self.epochs = epochs\n",
    "        self.centroids = []\n",
    "        self.seed = seed\n",
    "        self.n_init = n_init\n",
    "\n",
    "    def fit(self, X):\n",
    "        self.centroids = initialize_centroids(X, self.n_clusters, self.seed)\n",
    "        best_score = 1e10\n",
    "        epsilon = 1e-4\n",
    "        # Following sklearn, perform multiple initializations, choose the best based on total distance from cluster centers\n",
    "        for init in range(self.n_init):\n",
    "            centroids = initialize_centroids(X, self.n_clusters, self.seed + init)\n",
    "            clusters = assign_clusters(X, centroids)\n",
    "            centroids = update_centroids(X, clusters)\n",
    "            last_score = 1e10\n",
    "            for _ in range(self.epochs):\n",
    "                clusters = assign_clusters(X, centroids)\n",
    "                centroids = update_centroids(X, clusters)\n",
    "                score = score_clusters(X, centroids)\n",
    "                # Abort early if clusters do not change\n",
    "                if abs(score - last_score) < epsilon:\n",
    "                    break\n",
    "                last_score = score \n",
    "            if score < best_score:\n",
    "                self.centroids = centroids\n",
    "                self.clusters = clusters\n",
    "            \n",
    "    \n",
    "    def predict(self, X):\n",
    "        return np.array(assign_clusters(X, self.centroids))\n",
    "    \n",
    "def reassign(preds, actual):\n",
    "    '''Map each cluster to its majority label in the data, correcting arbitrary label values'''\n",
    "    assignment = np.zeros_like(preds)\n",
    "    for i in range(CLUSTERS):\n",
    "        # Select real labels of cluster\n",
    "        select = actual[(preds == i).nonzero()]\n",
    "        # Return mode\n",
    "        mode = 0\n",
    "        mode_count = -1\n",
    "        for c in range(CLUSTERS):\n",
    "            total = (select == c).sum()\n",
    "            if total > mode_count:\n",
    "                mode_count = total \n",
    "                mode = c\n",
    "        assignment[(preds == i).nonzero()] = mode\n",
    "    return assignment\n",
    "\n",
    "model = K_Means(n_clusters=CLUSTERS) \n",
    "model.fit(X_train)\n",
    "\n",
    "preds = model.predict(X_test)\n",
    "preds = reassign(preds, y_test)\n",
    "np.count_nonzero(preds == y_test) / len(y_test)"
   ]
  },
  {
   "cell_type": "code",
   "execution_count": 278,
   "metadata": {},
   "outputs": [],
   "source": [
    "def run_experiment(df, use_split):\n",
    "    df_train, df_test = fetch_data(df, use_split)\n",
    "    X_train, _ = get_x_y(df_train)\n",
    "    X_test, y_test = get_x_y(df_test)\n",
    "    model = K_Means(n_clusters=CLUSTERS) \n",
    "    model.fit(X_train) \n",
    "    preds = model.predict(X_test)\n",
    "    preds = reassign(preds, y_test)\n",
    "    return len(y_test) - np.count_nonzero(preds == y_test)\n",
    "\n",
    "def sk_bench(df, use_split):\n",
    "    df_train, df_test = fetch_data(df, use_split)\n",
    "    X_train, _ = get_x_y(df_train)\n",
    "    X_test, y_test = get_x_y(df_test)\n",
    "    model = KMeans(n_clusters=CLUSTERS, random_state=2028, n_init=10)\n",
    "    model.fit(X_train)\n",
    "    preds = model.predict(X_test)\n",
    "    preds = reassign(preds, y_test)\n",
    "    return len(y_test) - np.count_nonzero(preds == y_test)"
   ]
  },
  {
   "cell_type": "code",
   "execution_count": 279,
   "metadata": {},
   "outputs": [
    {
     "data": {
      "image/png": "[encoded data removed]",
      "text/plain": [
       "<Figure size 640x480 with 1 Axes>"
      ]
     },
     "metadata": {},
     "output_type": "display_data"
    }
   ],
   "source": [
    "import seaborn\n",
    "import pandas as pd \n",
    "import matplotlib.pyplot as plt\n",
    "\n",
    "plt.style.use('ggplot')\n",
    "COLORS = seaborn.color_palette()\n",
    "f, ax = plt.subplots()\n",
    "\n",
    "our_method = [run_experiment(df, x) for x in range(5)]\n",
    "benchmark = [sk_bench(df, x) for x in range(5)]\n",
    "method = ['Ours' for _ in range(5)] + ['Benchmark' for _ in range(5)]\n",
    "plot_df = pd.DataFrame.from_dict({'Errors': our_method + benchmark, 'Method': method, 'Trial': list(range(5)) + list(range(5))})\n",
    "ax.set_title('5-Fold Cross Validation Misclassified Examples')\n",
    "seaborn.barplot(data=plot_df, x='Trial', y='Errors', hue='Method', ax=ax, palette=COLORS)\n",
    "seaborn.move_legend(ax, \"lower center\")\n",
    "for container in ax.containers:\n",
    "    ax.bar_label(container)"
   ]
  },
  {
   "cell_type": "code",
   "execution_count": 280,
   "metadata": {},
   "outputs": [
    {
     "data": {
      "image/png": "[encoded data removed]",
      "text/plain": [
       "<Figure size 640x480 with 1 Axes>"
      ]
     },
     "metadata": {},
     "output_type": "display_data"
    }
   ],
   "source": [
    "import seaborn \n",
    "import matplotlib.pyplot as plt\n",
    "\n",
    "plt.style.use('ggplot')\n",
    "COLORS = seaborn.color_palette()\n",
    "\n",
    "plt.figure()\n",
    "ax = seaborn.scatterplot(\n",
    "    x=[X[0] for X in X_test], y=[X[1] for X in X_test], hue=y_test,\n",
    "    style=preds, palette=COLORS[0:3], legend='full')\n",
    "plt.plot(\n",
    "    [x for x, _, _, _ in model.centroids], [y for _, y, _, _ in model.centroids], '+',\n",
    "    markersize=10, c='black')\n",
    "h, _ = ax.get_legend_handles_labels()\n",
    "labels = [ID_TO_NAME[x] for x in range(3)]\n",
    "plt.legend(handles=h, loc='upper center', labels=labels)\n",
    "plt.show()"
   ]
  },
  {
   "cell_type": "code",
   "execution_count": 273,
   "metadata": {},
   "outputs": [
    {
     "data": {
      "text/plain": [
       "array([0.35666317, 0.33333333, 0.3100035 ])"
      ]
     },
     "execution_count": 273,
     "metadata": {},
     "output_type": "execute_result"
    }
   ],
   "source": [
    "from sklearn.mixture import GaussianMixture\n",
    "df_train, df_test = fetch_data(df, 1)\n",
    "X_train, y_train = get_x_y(df_train)\n",
    "X_test, y_test = get_x_y(df_test)\n",
    "mix = GaussianMixture(n_components=3, covariance_type=\"full\")\n",
    "mix.fit(X_train, y_train)\n",
    "mix_preds = mix.predict(X_test)\n",
    "mix_preds = reassign(mix_preds, y_test)\n",
    "np.count_nonzero(mix_preds == y_test) / len(y_test)\n",
    "mix.means_\n",
    "np.abs(mix.covariances_).min()\n",
    "mix.weights_"
   ]
  },
  {
   "cell_type": "code",
   "execution_count": 281,
   "metadata": {},
   "outputs": [],
   "source": [
    "def normal_pdf(x, mu, sigma):\n",
    "    k = len(mu)\n",
    "    # Assume x, mu are row vectors \n",
    "    denom1 = np.sqrt((2 * np.pi)**k * np.linalg.det(sigma))\n",
    "    try:\n",
    "        mat1 = np.matmul((x - mu).T, np.linalg.inv(sigma)) \n",
    "    except Exception:\n",
    "        print(sigma)\n",
    "        raise(ArithmeticError)\n",
    "    num1 = np.exp(-0.5 * np.matmul(mat1, (x - mu)))\n",
    "    return num1 / denom1\n",
    "\n",
    "class Mixture:\n",
    "    def __init__(self, mu, sigma, pi):\n",
    "        self.n_classes = len(mu)\n",
    "        self.mu = mu \n",
    "        self.sigma = sigma\n",
    "        # self.pi = np.ones(self.n_classes, dtype=np.float64) / self.n_classes\n",
    "        self.pi = pi\n",
    "\n",
    "    def fit(self, X, steps=20):\n",
    "        # print(X.shape)\n",
    "        print(self.pi)\n",
    "        print(self.mu)\n",
    "        print(self.sigma)\n",
    "        # print(\"Printing mu: \")\n",
    "        # print(self.mu)\n",
    "        # print(self.sigma[0])\n",
    "        N = X.shape[0]\n",
    "        resp = np.zeros((N, self.n_classes))\n",
    "\n",
    "        for _ in range(steps):\n",
    "\n",
    "            # E Step\n",
    "            for i in range(N):\n",
    "                x = X[i]\n",
    "                resp[i, :] = self.responsibility(x)\n",
    "            # M Step\n",
    "            n_ks = np.sum(resp, axis=0)\n",
    "            # print(n_ks)\n",
    "            # Update Mu\n",
    "            for k in range(self.n_classes):\n",
    "                total = np.zeros_like(self.mu[0])\n",
    "                for i in range(N):\n",
    "                    total += resp[i, k] * X[i]\n",
    "                total /= n_ks[k]\n",
    "                # print(\"Printing total: \")\n",
    "                # print(total)\n",
    "                self.mu[k] = total\n",
    "            # Update Sigma\n",
    "            for k in range(self.n_classes):\n",
    "                total = np.zeros_like(self.sigma[0])\n",
    "                mean = self.mu[k]\n",
    "                for i in range(N):\n",
    "                    x = X[i]\n",
    "                    size = x.size\n",
    "                    # We are using row vectors, so the transpose is reversed\n",
    "                    a = np.reshape(x - mean, (size, 1))\n",
    "                    b = np.reshape(x - mean, (1, size))\n",
    "                    val = resp[i, k] * np.matmul(a, b)\n",
    "                    # print(val)\n",
    "                    total += val\n",
    "                total /= n_ks[k]\n",
    "                self.sigma[k] = total\n",
    "            # Update Pi\n",
    "            self.pi = n_ks / N\n",
    "            # print(self.pi)\n",
    "            # print(self.sigma[-1])\n",
    "        print(self.pi)\n",
    "        print(self.mu)\n",
    "        print(self.sigma)\n",
    "        \n",
    "\n",
    "    def responsibility(self, x):\n",
    "        nums = [self.pi[i] * normal_pdf(x, self.mu[i], self.sigma[i]) for i in range(self.n_classes)]\n",
    "        total = sum(nums)\n",
    "        return np.array(nums) / total"
   ]
  },
  {
   "cell_type": "code",
   "execution_count": 282,
   "metadata": {},
   "outputs": [
    {
     "name": "stdout",
     "output_type": "stream",
     "text": [
      "[0.33333333 0.34166667 0.325     ]\n",
      "[array([4.9925, 3.4125, 1.465 , 0.25  ]), array([6.63658537, 3.02439024, 5.5097561 , 1.97560976]), array([5.78461538, 2.69230769, 4.20512821, 1.33589744])]\n",
      "[array([[ 0.64759384, -0.01835434,  1.21804622,  0.49546639],\n",
      "       [-0.01835434,  0.20183123, -0.30223739, -0.11040966],\n",
      "       [ 1.21804622, -0.30223739,  3.05026261,  1.27456933],\n",
      "       [ 0.49546639, -0.11040966,  1.27456933,  0.5754895 ]]), array([[ 0.64759384, -0.01835434,  1.21804622,  0.49546639],\n",
      "       [-0.01835434,  0.20183123, -0.30223739, -0.11040966],\n",
      "       [ 1.21804622, -0.30223739,  3.05026261,  1.27456933],\n",
      "       [ 0.49546639, -0.11040966,  1.27456933,  0.5754895 ]]), array([[ 0.64759384, -0.01835434,  1.21804622,  0.49546639],\n",
      "       [-0.01835434,  0.20183123, -0.30223739, -0.11040966],\n",
      "       [ 1.21804622, -0.30223739,  3.05026261,  1.27456933],\n",
      "       [ 0.49546639, -0.11040966,  1.27456933,  0.5754895 ]])]\n",
      "[0.33333333 0.35655845 0.31010821]\n",
      "[array([4.9925, 3.4125, 1.465 , 0.25  ]), array([6.48854255, 2.95806102, 5.4770437 , 1.99470114]), array([5.91392044, 2.75262516, 4.18009062, 1.28322661])]\n",
      "[array([[0.12919375, 0.10859375, 0.0172375 , 0.011125  ],\n",
      "       [0.10859375, 0.15659375, 0.0151875 , 0.013375  ],\n",
      "       [0.0172375 , 0.0151875 , 0.033775  , 0.007     ],\n",
      "       [0.011125  , 0.013375  , 0.007     , 0.0125    ]]), array([[0.35435165, 0.13008817, 0.25283368, 0.05118629],\n",
      "       [0.13008817, 0.12656513, 0.11663649, 0.06321817],\n",
      "       [0.25283368, 0.11663649, 0.25477921, 0.05995232],\n",
      "       [0.05118629, 0.06321817, 0.05995232, 0.08485216]]), array([[0.2660489 , 0.09615374, 0.18579073, 0.050107  ],\n",
      "       [0.09615374, 0.0922306 , 0.08405075, 0.03889172],\n",
      "       [0.18579073, 0.08405075, 0.1987265 , 0.05248987],\n",
      "       [0.050107  , 0.03889172, 0.05248987, 0.02632233]])]\n"
     ]
    }
   ],
   "source": [
    "centroids = [np.copy(x) for x in model.centroids]\n",
    "clusters = np.array(model.clusters)\n",
    "pi = np.array([(clusters == i).sum() for i in range(CLUSTERS)]) / len(clusters)\n",
    "# variance = [np.cov(X_train[clusters == i].T) for i in range(CLUSTERS)]\n",
    "variance = [np.cov(X_train.T) for _ in range(CLUSTERS)]\n",
    "# v = variance[0] + variance[1] + variance[2]\n",
    "# v = [v, v, v]\n",
    "\n",
    "mix = Mixture(centroids, variance, pi)\n",
    "mix.fit(X_train)"
   ]
  },
  {
   "cell_type": "code",
   "execution_count": 245,
   "metadata": {},
   "outputs": [
    {
     "data": {
      "text/plain": [
       "18.27473859514806"
      ]
     },
     "execution_count": 245,
     "metadata": {},
     "output_type": "execute_result"
    }
   ],
   "source": [
    "from scipy.stats import multivariate_normal\n",
    "multivariate_normal(centroids[0], variance[0]).pdf(X_train[0])"
   ]
  },
  {
   "cell_type": "code",
   "execution_count": 246,
   "metadata": {},
   "outputs": [
    {
     "data": {
      "text/plain": [
       "18.274738595148072"
      ]
     },
     "execution_count": 246,
     "metadata": {},
     "output_type": "execute_result"
    }
   ],
   "source": [
    "normal_pdf(X_train[0], centroids[0], variance[0])"
   ]
  }
 ],
 "metadata": {
  "kernelspec": {
   "display_name": "venv39",
   "language": "python",
   "name": "python3"
  },
  "language_info": {
   "codemirror_mode": {
    "name": "ipython",
    "version": 3
   },
   "file_extension": ".py",
   "mimetype": "text/x-python",
   "name": "python",
   "nbconvert_exporter": "python",
   "pygments_lexer": "ipython3",
   "version": "3.10.9"
  },
  "orig_nbformat": 4,
  "vscode": {
   "interpreter": {
    "hash": "969ebf785a6e67111ec7011bfe7988b7af4c3ba0a46745ea43db76e0b2432dc6"
   }
  }
 },
 "nbformat": 4,
 "nbformat_minor": 2
}
