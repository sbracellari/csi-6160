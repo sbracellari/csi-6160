{
 "cells": [
  {
   "cell_type": "code",
   "execution_count": 154,
   "metadata": {},
   "outputs": [
    {
     "data": {
      "text/html": [
       "<div><style>\n",
       ".dataframe > thead > tr > th,\n",
       ".dataframe > tbody > tr > td {\n",
       "  text-align: right;\n",
       "}\n",
       "</style>\n",
       "<small>shape: (5, 5)</small><table border=\"1\" class=\"dataframe\"><thead><tr><th>column_1</th><th>column_2</th><th>column_3</th><th>column_4</th><th>column_5</th></tr><tr><td>f64</td><td>f64</td><td>f64</td><td>f64</td><td>str</td></tr></thead><tbody><tr><td>6.8</td><td>3.2</td><td>5.9</td><td>2.3</td><td>&quot;Iris-virginica...</td></tr><tr><td>6.7</td><td>3.3</td><td>5.7</td><td>2.5</td><td>&quot;Iris-virginica...</td></tr><tr><td>6.7</td><td>3.0</td><td>5.2</td><td>2.3</td><td>&quot;Iris-virginica...</td></tr><tr><td>6.5</td><td>3.0</td><td>5.2</td><td>2.0</td><td>&quot;Iris-virginica...</td></tr><tr><td>6.2</td><td>3.4</td><td>5.4</td><td>2.3</td><td>&quot;Iris-virginica...</td></tr></tbody></table></div>"
      ],
      "text/plain": [
       "shape: (5, 5)\n",
       "┌──────────┬──────────┬──────────┬──────────┬────────────────┐\n",
       "│ column_1 ┆ column_2 ┆ column_3 ┆ column_4 ┆ column_5       │\n",
       "│ ---      ┆ ---      ┆ ---      ┆ ---      ┆ ---            │\n",
       "│ f64      ┆ f64      ┆ f64      ┆ f64      ┆ str            │\n",
       "╞══════════╪══════════╪══════════╪══════════╪════════════════╡\n",
       "│ 6.8      ┆ 3.2      ┆ 5.9      ┆ 2.3      ┆ Iris-virginica │\n",
       "│ 6.7      ┆ 3.3      ┆ 5.7      ┆ 2.5      ┆ Iris-virginica │\n",
       "│ 6.7      ┆ 3.0      ┆ 5.2      ┆ 2.3      ┆ Iris-virginica │\n",
       "│ 6.5      ┆ 3.0      ┆ 5.2      ┆ 2.0      ┆ Iris-virginica │\n",
       "│ 6.2      ┆ 3.4      ┆ 5.4      ┆ 2.3      ┆ Iris-virginica │\n",
       "└──────────┴──────────┴──────────┴──────────┴────────────────┘"
      ]
     },
     "execution_count": 154,
     "metadata": {},
     "output_type": "execute_result"
    }
   ],
   "source": [
    "from sklearn.model_selection import KFold\n",
    "import polars as pl\n",
    "import numpy as np\n",
    "from sklearn import preprocessing\n",
    "\n",
    "TARGET = 'column_5'\n",
    "CLUSTERS = 3\n",
    "\n",
    "# Iris-setosa = 0\n",
    "# Iris-versicolor = 1\n",
    "# Iris-virginica = 2\n",
    "\n",
    "def fetch_data(df, use_split):\n",
    "    assert(use_split >= 0 and use_split <= 4)\n",
    "    # perform 5-fold cross validation with a deterministic seed\n",
    "    kf = KFold(n_splits=5, shuffle=True, random_state=2028)\n",
    "    split_x, split_y = get_x_y(df)\n",
    "    splits = list(kf.split(split_x, split_y))\n",
    "\n",
    "    # indexing the dataframe with an array returns the appropriate splits\n",
    "    df_train, df_test = df[splits[use_split][0]], df[splits[use_split][1]]\n",
    "    return df_train, df_test\n",
    "\n",
    "def get_x_y(df):\n",
    "    encoder = preprocessing.LabelEncoder()\n",
    "    X, y = df.drop(TARGET).to_numpy(), df.get_column(TARGET)\n",
    "    y = np.array(encoder.fit(y).transform(y)) # encode categorical data\n",
    "    return X, y\n",
    "\n",
    "df = pl.read_csv('iris.data', has_header=False)\n",
    "df_train, df_test = fetch_data(df, 0)\n",
    "X_train, y_train = get_x_y(df_train)\n",
    "X_test, y_test = get_x_y(df_test)\n",
    "df_train.tail()"
   ]
  },
  {
   "cell_type": "code",
   "execution_count": 155,
   "metadata": {},
   "outputs": [
    {
     "data": {
      "text/plain": [
       "0.8666666666666667"
      ]
     },
     "execution_count": 155,
     "metadata": {},
     "output_type": "execute_result"
    }
   ],
   "source": [
    "from sklearn.cluster import KMeans\n",
    "import numpy as np\n",
    "\n",
    "model = KMeans(n_clusters=3, random_state=2028, n_init='auto')\n",
    "model.fit(X_train)\n",
    "\n",
    "preds = model.predict(X_test)\n",
    "\n",
    "np.count_nonzero(preds == y_test) / len(y_test)"
   ]
  },
  {
   "cell_type": "code",
   "execution_count": 156,
   "metadata": {},
   "outputs": [
    {
     "data": {
      "text/plain": [
       "0.8666666666666667"
      ]
     },
     "execution_count": 156,
     "metadata": {},
     "output_type": "execute_result"
    }
   ],
   "source": [
    "import numpy as np\n",
    "import random\n",
    "\n",
    "def euclidean(p1, p2):\n",
    "    return np.sqrt(np.sum((p1 - p2)**2, axis=1))\n",
    "\n",
    "# for each point, find the closest centroid & assign to a cluster\n",
    "def assign_clusters(X, centroids):\n",
    "    return [np.argmin(euclidean(x, centroids)) for x in X]\n",
    "    \n",
    "# update the centroids\n",
    "def update_centroids(X, clusters):\n",
    "    centroids = []\n",
    "\n",
    "    for c in set(clusters):\n",
    "        cluster = X[np.where(clusters == c)[0]]\n",
    "        mean = cluster.mean(axis=0)\n",
    "        centroids.append(mean)\n",
    "    return centroids\n",
    "\n",
    "class KMeans():\n",
    "    def __init__(self, n_clusters, epochs=300):\n",
    "        self.n_clusters = n_clusters\n",
    "        self.epochs = epochs\n",
    "        self.centroids = []\n",
    "\n",
    "    def fit(self, X):\n",
    "        # randomly initialize centroids. todo: make replicable\n",
    "        centroids = [x for x in random.sample(X.tolist(), self.n_clusters)]\n",
    "\n",
    "        for _ in range(self.n_clusters):\n",
    "            distances = np.sum([euclidean(X_train, centroid) for centroid in centroids], axis=0)            \n",
    "            distances /= np.sum(distances) # normalize\n",
    "\n",
    "            # choose centroids probabilistically \n",
    "            centroid_idx = np.random.choice(range(len(X_train)), size=1, p=distances)[0]\n",
    "            self.centroids += [X_train[centroid_idx]]\n",
    "\n",
    "        for _ in range(self.epochs):\n",
    "            self.clusters = assign_clusters(X, self.centroids)\n",
    "            self.centroids = update_centroids(X, self.clusters)\n",
    "    \n",
    "    def predict(self, X):\n",
    "        return assign_clusters(X, self.centroids)\n",
    "\n",
    "model = KMeans(n_clusters=3) \n",
    "model.fit(X_train)\n",
    "\n",
    "preds = model.predict(X_test)\n",
    "np.count_nonzero(preds == y_test) / len(y_test)"
   ]
  },
  {
   "cell_type": "code",
   "execution_count": 159,
   "metadata": {},
   "outputs": [
    {
     "data": {
      "image/png": "[encoded data removed]",
      "text/plain": [
       "<Figure size 640x480 with 1 Axes>"
      ]
     },
     "metadata": {},
     "output_type": "display_data"
    }
   ],
   "source": [
    "import seaborn \n",
    "import matplotlib.pyplot as plt\n",
    "\n",
    "plt.style.use('ggplot')\n",
    "COLORS = seaborn.color_palette()\n",
    "\n",
    "plt.figure()\n",
    "ax = seaborn.scatterplot(x=[X[0] for X in X_test],\n",
    "                y=[X[1] for X in X_test],\n",
    "                hue=preds,\n",
    "                palette=COLORS[0:3],\n",
    "                legend='full'\n",
    "                )\n",
    "plt.plot([x for x, _, _, _ in model.centroids],\n",
    "         [y for _, y, _, _ in model.centroids],\n",
    "         '+',\n",
    "         markersize=10,\n",
    "         c='black',\n",
    "         )\n",
    "h, _ = ax.get_legend_handles_labels()\n",
    "plt.legend(handles=h, loc='upper center', labels=['Iris-setosa', 'Iris-versicolor', 'Iris-virginica'])\n",
    "plt.show()"
   ]
  }
 ],
 "metadata": {
  "kernelspec": {
   "display_name": "venv39",
   "language": "python",
   "name": "python3"
  },
  "language_info": {
   "codemirror_mode": {
    "name": "ipython",
    "version": 3
   },
   "file_extension": ".py",
   "mimetype": "text/x-python",
   "name": "python",
   "nbconvert_exporter": "python",
   "pygments_lexer": "ipython3",
   "version": "3.9.7"
  },
  "orig_nbformat": 4
 },
 "nbformat": 4,
 "nbformat_minor": 2
}
