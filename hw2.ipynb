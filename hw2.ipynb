{
 "cells": [
  {
   "cell_type": "code",
   "execution_count": null,
   "metadata": {},
   "outputs": [],
   "source": [
    "import string\n",
    "import polars as pl"
   ]
  },
  {
   "cell_type": "code",
   "execution_count": null,
   "metadata": {},
   "outputs": [],
   "source": [
    "dummy = pl.from_dict({\"text\": [\"Chinese Beijing Chinese\", \"Chinese Chinese Shanghai\", \"Chinese Macao\", \"Tokyo Japan Chinese\"],\n",
    "    \"class\": [0, 0, 0, 1]\n",
    "})"
   ]
  },
  {
   "cell_type": "code",
   "execution_count": null,
   "metadata": {},
   "outputs": [],
   "source": [
    "f_name = \"amazon_cells_labelled.txt\"\n",
    "df = pl.read_csv(f_name, has_header=False, sep=\"\\t\", new_columns=[\"text\", \"class\"])\n",
    "# df = dummy\n",
    "df = df.with_columns(pl.col(\"text\").str.replace_all(\"[^\\s\\w\\d]\", \"\").str.to_lowercase())\n",
    "# print(len(df))\n",
    "# for r in df.rows():\n",
    "#     print(r[0])"
   ]
  },
  {
   "cell_type": "code",
   "execution_count": null,
   "metadata": {},
   "outputs": [],
   "source": [
    "df = df.with_columns(pl.col(\"text\").str.replace_all(\"[^\\s\\w\\d]\", \"\").str.to_lowercase())\n",
    "df_pos = df.filter(pl.col(\"class\") == 1)\n",
    "df_neg = df.filter(pl.col(\"class\") == 0)\n",
    "\n",
    "def count_words(df):\n",
    "    return df.select(pl.col(\"text\").str.split(\" \").alias(\"words\").flatten()).to_series().value_counts()\n",
    "vocab_size = len(count_words(df))\n",
    "pos_wc = count_words(df_pos).get_column(\"counts\").sum()\n",
    "neg_wc = count_words(df_neg).get_column(\"counts\").sum()\n",
    "print(len(df_pos))"
   ]
  },
  {
   "cell_type": "code",
   "execution_count": null,
   "metadata": {},
   "outputs": [],
   "source": [
    "pos = count_words(df_pos)\n",
    "def word_dict(df):\n",
    "    d = {}\n",
    "    for row in df.rows():\n",
    "        d[row[0]] = row[1]\n",
    "    return d\n",
    "pos_dict = word_dict(count_words(df_pos))\n",
    "neg_dict = word_dict(count_words(df_neg))"
   ]
  },
  {
   "cell_type": "code",
   "execution_count": null,
   "metadata": {},
   "outputs": [],
   "source": [
    "from math import inf\n",
    "import typing\n",
    "VOCAB_SIZE = vocab_size\n",
    "def cond_prob(word_class_count, word_count):\n",
    "    return (word_count + 1) / (VOCAB_SIZE + word_class_count)\n",
    "\n",
    "def sentence_prob(sentence: typing.List[str], class_dict, word_class_count):\n",
    "    prob = 1.0\n",
    "    for word in sentence:\n",
    "        try:\n",
    "            word_count = class_dict[word]\n",
    "        except Exception:\n",
    "            word_count = 0\n",
    "        cond = cond_prob(word_class_count, word_count)\n",
    "        print(f\"Conditional Prob: {cond}\")\n",
    "        prob *= cond\n",
    "    return prob\n",
    "\n",
    "def foo(sentence: typing.List[str], class_dicts: typing.List[typing.Dict], \n",
    "    word_class_counts: typing.List[typing.Dict], priors):\n",
    "    best = -inf\n",
    "    best_idx = 0\n",
    "    for idx, (word_class_count, class_dict, prior) in enumerate(zip(word_class_counts, class_dicts, priors)):\n",
    "        # Todo priors\n",
    "        prob = prior * sentence_prob(sentence, class_dict, word_class_count)\n",
    "        print(prob)\n",
    "        if prob > best:\n",
    "            best_idx = idx\n",
    "            best = prob \n",
    "\n",
    "    return best_idx, best\n",
    "\n",
    "foo([s.lower() for s in \"worst product ever\".split(\" \")], [neg_dict, pos_dict], [neg_wc, pos_wc], [2/4, 2/4])"
   ]
  },
  {
   "cell_type": "code",
   "execution_count": null,
   "metadata": {},
   "outputs": [],
   "source": [
    "1/4 * (2/9)**3 * 2/9 * 2/9"
   ]
  },
  {
   "cell_type": "code",
   "execution_count": null,
   "metadata": {},
   "outputs": [],
   "source": [
    "3/4 * (3/7)**3 * 1/14 * 1/14"
   ]
  }
 ],
 "metadata": {
  "kernelspec": {
   "display_name": "sk",
   "language": "python",
   "name": "python3"
  },
  "language_info": {
   "codemirror_mode": {
    "name": "ipython",
    "version": 3
   },
   "file_extension": ".py",
   "mimetype": "text/x-python",
   "name": "python",
   "nbconvert_exporter": "python",
   "pygments_lexer": "ipython3",
   "version": "3.10.9"
  },
  "orig_nbformat": 4,
  "vscode": {
   "interpreter": {
    "hash": "a64731e6f951c3efcd8f077cd06984c66b3d9d46e06507db3babb98e2e2eb9ea"
   }
  }
 },
 "nbformat": 4,
 "nbformat_minor": 2
}
