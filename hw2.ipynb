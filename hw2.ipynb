{
 "cells": [
  {
   "cell_type": "code",
   "execution_count": 1,
   "metadata": {},
   "outputs": [
    {
     "data": {
      "text/html": [
       "<div>\n",
       "<style scoped>\n",
       "    .dataframe tbody tr th:only-of-type {\n",
       "        vertical-align: middle;\n",
       "    }\n",
       "\n",
       "    .dataframe tbody tr th {\n",
       "        vertical-align: top;\n",
       "    }\n",
       "\n",
       "    .dataframe thead th {\n",
       "        text-align: right;\n",
       "    }\n",
       "\n",
       "    .dataframe td {\n",
       "        white-space: pre;\n",
       "    }\n",
       "\n",
       "    .dataframe td {\n",
       "        padding-top: 0;\n",
       "    }\n",
       "\n",
       "    .dataframe td {\n",
       "        padding-bottom: 0;\n",
       "    }\n",
       "</style>\n",
       "<table border=\"1\" class=\"dataframe\">\n",
       "<small>shape: (5, 2)</small>\n",
       "<thead>\n",
       "<tr>\n",
       "<th>\n",
       "text\n",
       "</th>\n",
       "<th>\n",
       "class\n",
       "</th>\n",
       "</tr>\n",
       "<tr>\n",
       "<td>\n",
       "str\n",
       "</td>\n",
       "<td>\n",
       "i64\n",
       "</td>\n",
       "</tr>\n",
       "</thead>\n",
       "<tbody>\n",
       "<tr>\n",
       "<td>\n",
       "&quot;as i said abov...\n",
       "</td>\n",
       "<td>\n",
       "0\n",
       "</td>\n",
       "</tr>\n",
       "<tr>\n",
       "<td>\n",
       "&quot;do not buy if ...\n",
       "</td>\n",
       "<td>\n",
       "0\n",
       "</td>\n",
       "</tr>\n",
       "<tr>\n",
       "<td>\n",
       "&quot;ive also had p...\n",
       "</td>\n",
       "<td>\n",
       "0\n",
       "</td>\n",
       "</tr>\n",
       "<tr>\n",
       "<td>\n",
       "&quot;small sleek im...\n",
       "</td>\n",
       "<td>\n",
       "1\n",
       "</td>\n",
       "</tr>\n",
       "<tr>\n",
       "<td>\n",
       "&quot;just does not ...\n",
       "</td>\n",
       "<td>\n",
       "0\n",
       "</td>\n",
       "</tr>\n",
       "</tbody>\n",
       "</table>\n",
       "</div>"
      ],
      "text/plain": [
       "shape: (5, 2)\n",
       "┌─────────────────────────────────────┬───────┐\n",
       "│ text                                ┆ class │\n",
       "│ ---                                 ┆ ---   │\n",
       "│ str                                 ┆ i64   │\n",
       "╞═════════════════════════════════════╪═══════╡\n",
       "│ as i said abovepretty useless       ┆ 0     │\n",
       "│ do not buy if you want to use th... ┆ 0     │\n",
       "│ ive also had problems with the p... ┆ 0     │\n",
       "│ small sleek impressive looking p... ┆ 1     │\n",
       "│ just does not work                  ┆ 0     │\n",
       "└─────────────────────────────────────┴───────┘"
      ]
     },
     "execution_count": 1,
     "metadata": {},
     "output_type": "execute_result"
    }
   ],
   "source": [
    "import polars as pl\n",
    "from sklearn.model_selection import train_test_split\n",
    "\n",
    "f_name = \"amazon_cells_labelled.txt\"\n",
    "df = pl.read_csv(f_name, has_header=False, sep=\"\\t\", new_columns=[\"text\", \"class\"])\n",
    "df = df.with_columns(pl.col(\"text\").str.replace_all(\"[^\\s\\w\\d]\", \"\").str.to_lowercase())\n",
    "df_train, df_test = train_test_split(df, test_size=0.2, random_state=2023)\n",
    "\n",
    "df_train.tail()"
   ]
  },
  {
   "cell_type": "code",
   "execution_count": 2,
   "metadata": {},
   "outputs": [],
   "source": [
    "# count the occurrence of each distinct word\n",
    "def count_words(df):\n",
    "    return df.select(pl.col(\"text\").str.split(\" \").alias(\"words\").flatten()).to_series().value_counts()\n",
    "\n",
    "VOCAB_SIZE = len(count_words(df)) # number of distinct words in the entire dataset\n",
    "LABEL_TO_NAME = {0: \"Negative\", 1: \"Positive\"}"
   ]
  },
  {
   "cell_type": "code",
   "execution_count": 3,
   "metadata": {},
   "outputs": [
    {
     "data": {
      "text/plain": [
       "'Positive'"
      ]
     },
     "execution_count": 3,
     "metadata": {},
     "output_type": "execute_result"
    }
   ],
   "source": [
    "def build_categories(df_train):\n",
    "    cats = []\n",
    "    for label, df in df_train.partition_by(groups=\"class\", as_dict=True).items():\n",
    "        wc = count_words(df).get_column(\"counts\").sum()\n",
    "        table = dict(count_words(df).rows())\n",
    "        prior = len(df) / len(df_train)\n",
    "        cats.append(Category(label, prior, wc, table))\n",
    "    return cats\n",
    "\n",
    "class Category:\n",
    "    label: int\n",
    "    prior: float\n",
    "    word_count: int\n",
    "    table: dict[str, float]\n",
    "    \n",
    "    def __init__(self, label, prior, word_count, table):\n",
    "        self.label = label\n",
    "        self.prior = prior\n",
    "        self.word_count = word_count\n",
    "        self.table = table \n",
    "\n",
    "def conditional_prob(word_class_count, word_count):\n",
    "    return (word_count + 1) / (word_class_count + VOCAB_SIZE)\n",
    "\n",
    "def sentence_prob(sentence: list[str], class_dict, word_class_count):\n",
    "    prob = 1.0\n",
    "    for word in sentence:\n",
    "        word_count = class_dict.get(word, 0)\n",
    "        prob *= conditional_prob(word_class_count, word_count)\n",
    "    return prob\n",
    "\n",
    "def nb(sentence: list[str], cats: list[Category]):\n",
    "    best_cat, best = 0, -1\n",
    "    for cat in cats:\n",
    "        prob = cat.prior * sentence_prob(sentence, cat.table, cat.word_count)\n",
    "        if prob > best:\n",
    "            best_cat, best = cat, prob\n",
    "    return best_cat.label\n",
    "\n",
    "cats = build_categories(df_train)\n",
    "LABEL_TO_NAME[nb([\"best\", \"product\", \"ever\"], cats)]"
   ]
  },
  {
   "cell_type": "code",
   "execution_count": 4,
   "metadata": {},
   "outputs": [
    {
     "name": "stdout",
     "output_type": "stream",
     "text": [
      "79.0% Accuracy\n"
     ]
    }
   ],
   "source": [
    "def validation_acc(test_df, cats):\n",
    "    correct = 0\n",
    "    for row in test_df.rows():\n",
    "        words = row[0].strip().split(\" \")\n",
    "        y = row[1]\n",
    "        y_hat = nb(words, cats)\n",
    "        if y_hat == y:\n",
    "            correct += 1\n",
    "    print(f\"{100.0 * correct / len(test_df)}% Accuracy\")\n",
    "\n",
    "validation_acc(df_test, cats)"
   ]
  }
 ],
 "metadata": {
  "kernelspec": {
   "display_name": "sk",
   "language": "python",
   "name": "python3"
  },
  "language_info": {
   "codemirror_mode": {
    "name": "ipython",
    "version": 3
   },
   "file_extension": ".py",
   "mimetype": "text/x-python",
   "name": "python",
   "nbconvert_exporter": "python",
   "pygments_lexer": "ipython3",
   "version": "3.10.9"
  },
  "orig_nbformat": 4,
  "vscode": {
   "interpreter": {
    "hash": "a64731e6f951c3efcd8f077cd06984c66b3d9d46e06507db3babb98e2e2eb9ea"
   }
  }
 },
 "nbformat": 4,
 "nbformat_minor": 2
}
