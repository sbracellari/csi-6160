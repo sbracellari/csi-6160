{
 "cells": [
  {
   "cell_type": "code",
   "execution_count": 79,
   "metadata": {},
   "outputs": [],
   "source": [
    "import polars as pl\n",
    "from sklearn.model_selection import train_test_split\n",
    "\n",
    "f_name = \"amazon_cells_labelled.txt\"\n",
    "df = pl.read_csv(f_name, has_header=False, sep=\"\\t\", new_columns=[\"text\", \"class\"])\n",
    "df = df.with_columns(pl.col(\"text\").str.replace_all(\"[^\\s\\w\\d]\", \"\").str.to_lowercase())\n",
    "df_neg, df_pos = df.partition_by(groups=\"class\", as_dict=False) # split data into its respective classes\n",
    "\n",
    "# todo: use these\n",
    "neg_train, neg_test = train_test_split(df_neg, test_size=0.2)\n",
    "pos_train, pos_test = train_test_split(df_pos, test_size=0.2)"
   ]
  },
  {
   "cell_type": "code",
   "execution_count": 72,
   "metadata": {},
   "outputs": [],
   "source": [
    "# count the occurrence of each distinct word\n",
    "def count_words(df):\n",
    "    return df.select(pl.col(\"text\").str.split(\" \").alias(\"words\").flatten()).to_series().value_counts()\n",
    "\n",
    "VOCAB_SIZE = len(count_words(df)) # number of distinct words in the entire dataset\n",
    "neg_prior, pos_prior = len(df_neg)/len(df), len(df_pos)/len(df)\n",
    "\n",
    "pos_wc = count_words(df_pos).get_column(\"counts\").sum() # number of distinct words in positive class\n",
    "pos_dict = dict(count_words(df_pos).rows()) # dictionary of (word, frequency) tuples in pos class\n",
    "\n",
    "neg_wc = count_words(df_neg).get_column(\"counts\").sum() # number of distinct words in negative class\n",
    "neg_dict = dict(count_words(df_neg).rows()) # dictionary of (word, frequency) tuples in neg class"
   ]
  },
  {
   "cell_type": "code",
   "execution_count": 74,
   "metadata": {},
   "outputs": [
    {
     "data": {
      "text/plain": [
       "(1, 8.098930004075396e-09)"
      ]
     },
     "execution_count": 74,
     "metadata": {},
     "output_type": "execute_result"
    }
   ],
   "source": [
    "from typing import List, Dict\n",
    "\n",
    "def conditional_prob(word_class_count, word_count):\n",
    "    return (word_count + 1) / (word_class_count + VOCAB_SIZE)\n",
    "\n",
    "def sentence_prob(sentence: List[str], class_dict, word_class_count):\n",
    "    prob = 1.0\n",
    "    for word in sentence:\n",
    "        word_count = class_dict.get(word, 0)\n",
    "        prob *= conditional_prob(word_class_count, word_count)\n",
    "    return prob\n",
    "\n",
    "def nb(sentence: List[str], class_dicts: List[Dict], word_class_counts: List[Dict], priors):\n",
    "    best_idx, best = 0, -1\n",
    "    for idx, (word_class_count, class_dict, prior) in enumerate(zip(word_class_counts, class_dicts, priors)):\n",
    "        prob = prior * sentence_prob(sentence, class_dict, word_class_count)\n",
    "        if prob > best:\n",
    "            best_idx, best = idx, prob\n",
    "    return best_idx, best\n",
    "\n",
    "nb([\"best\", \"product\", \"ever\"], [neg_dict, pos_dict], [neg_wc, pos_wc], [neg_prior, pos_prior])"
   ]
  }
 ],
 "metadata": {
  "kernelspec": {
   "display_name": "venv39",
   "language": "python",
   "name": "python3"
  },
  "language_info": {
   "codemirror_mode": {
    "name": "ipython",
    "version": 3
   },
   "file_extension": ".py",
   "mimetype": "text/x-python",
   "name": "python",
   "nbconvert_exporter": "python",
   "pygments_lexer": "ipython3",
   "version": "3.9.7"
  },
  "orig_nbformat": 4,
  "vscode": {
   "interpreter": {
    "hash": "969ebf785a6e67111ec7011bfe7988b7af4c3ba0a46745ea43db76e0b2432dc6"
   }
  }
 },
 "nbformat": 4,
 "nbformat_minor": 2
}
