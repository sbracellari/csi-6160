{
 "cells": [
  {
   "cell_type": "code",
   "execution_count": 76,
   "metadata": {},
   "outputs": [
    {
     "data": {
      "text/plain": [
       "0.6571428571428571"
      ]
     },
     "execution_count": 76,
     "metadata": {},
     "output_type": "execute_result"
    }
   ],
   "source": [
    "from sklearn.model_selection import StratifiedKFold\n",
    "import polars as pl\n",
    "\n",
    "TARGET = 'column_11'\n",
    "\n",
    "def fetch_data(df, use_split):\n",
    "    assert(use_split >= 0 and use_split <= 4)\n",
    "    # Perform 5-fold cross validation with a deterministic seed\n",
    "    kf = StratifiedKFold(n_splits=5, shuffle=True, random_state=2028)\n",
    "    split_x, split_y = get_x_y(df)\n",
    "    splits = list(kf.split(split_x, split_y))\n",
    "    # Indexing the dataframe with an array returns the appropriate splits\n",
    "    df_train, df_test = df[splits[use_split][0]], df[splits[use_split][1]]\n",
    "    mean = df_train.get_column(\"column_7\").mean()\n",
    "    df_train = df_train.with_columns(\"column_7\").fill_null(mean)\n",
    "    df_test = df_test.with_columns(\"column_7\").fill_null(mean)\n",
    "    return df_train, df_test\n",
    "\n",
    "def get_x_y(df):\n",
    "    X, y = df.drop(['column_1', TARGET]), df.get_column(TARGET) # we don't care about the ID column either\n",
    "    return X.to_numpy(), y.to_numpy()\n",
    "\n",
    "df = pl.read_csv('breast-cancer-wisconsin.data', has_header=False, null_values=\"?\")\n",
    "df_train, df_test = fetch_data(df, 0)\n",
    "X_train, y_train = get_x_y(df_train)\n",
    "X_test, y_test = get_x_y(df_test)\n",
    "df_train.tail()\n",
    "# df.head()\n",
    "# df_train.get_column(\"column_7\").unique()\n",
    "(df_test.get_column(TARGET) == 2.0).sum() / len(df_test)"
   ]
  },
  {
   "cell_type": "code",
   "execution_count": 62,
   "metadata": {},
   "outputs": [
    {
     "data": {
      "text/plain": [
       "0.9714285714285714"
      ]
     },
     "execution_count": 62,
     "metadata": {},
     "output_type": "execute_result"
    }
   ],
   "source": [
    "from sklearn.pipeline import make_pipeline\n",
    "from sklearn.preprocessing import StandardScaler\n",
    "from sklearn.svm import SVC\n",
    "\n",
    "model = make_pipeline(StandardScaler(), SVC(gamma='auto'))\n",
    "model.fit(X_train, y_train)\n",
    "model.score(X_test, y_test)\n"
   ]
  },
  {
   "cell_type": "code",
   "execution_count": 88,
   "metadata": {},
   "outputs": [
    {
     "name": "stdout",
     "output_type": "stream",
     "text": [
      "0.9470108695652174\n",
      "0.957427536231884\n",
      "0.973731884057971\n",
      "0.9780219780219781\n",
      "0.9626831501831502\n"
     ]
    },
    {
     "data": {
      "text/plain": [
       "[0.95,\n",
       " 0.9571428571428572,\n",
       " 0.9785714285714285,\n",
       " 0.9714285714285714,\n",
       " 0.9640287769784173]"
      ]
     },
     "execution_count": 88,
     "metadata": {},
     "output_type": "execute_result"
    }
   ],
   "source": [
    "from sklearn.metrics import balanced_accuracy_score\n",
    "\n",
    "def svm(df, use_split):\n",
    "    df_train, df_test = fetch_data(df, use_split)\n",
    "    X_train, y_train = get_x_y(df_train)\n",
    "    X_test, y_test = get_x_y(df_test)\n",
    "    model = make_pipeline(StandardScaler(), SVC(gamma=\"auto\", kernel=\"rbf\", C=1.69)).fit(X_train, y_train)\n",
    "    pred = model.predict(X_test)\n",
    "    print(balanced_accuracy_score(y_test, pred))\n",
    "    return model.score(X_test, y_test)\n",
    "\n",
    "scores = [svm(df, x) for x in range(5)]\n",
    "scores"
   ]
  },
  {
   "cell_type": "code",
   "execution_count": 78,
   "metadata": {},
   "outputs": [
    {
     "data": {
      "image/png": "[encoded data removed]",
      "text/plain": [
       "<Figure size 600x600 with 1 Axes>"
      ]
     },
     "metadata": {},
     "output_type": "display_data"
    }
   ],
   "source": [
    "import matplotlib.pyplot as plt\n",
    "import seaborn\n",
    "import pandas as pd\n",
    "\n",
    "f, ax = plt.subplots(1, figsize=(6, 6))\n",
    "COLORS = seaborn.color_palette()\n",
    "\n",
    "plot_df = pd.DataFrame.from_dict({'Accuracy': scores, 'Trial': list(range(5))})\n",
    "ax.set_title('5-Fold Cross Validation Accuracy')\n",
    "seaborn.barplot(data=plot_df, x='Trial', y='Accuracy', ax=ax, color=COLORS[0])\n",
    "for container in ax.containers:\n",
    "    ax.bar_label(container, fmt=\"%.2f\")"
   ]
  }
 ],
 "metadata": {
  "kernelspec": {
   "display_name": "venv39",
   "language": "python",
   "name": "python3"
  },
  "language_info": {
   "codemirror_mode": {
    "name": "ipython",
    "version": 3
   },
   "file_extension": ".py",
   "mimetype": "text/x-python",
   "name": "python",
   "nbconvert_exporter": "python",
   "pygments_lexer": "ipython3",
   "version": "3.10.9"
  },
  "orig_nbformat": 4
 },
 "nbformat": 4,
 "nbformat_minor": 2
}
