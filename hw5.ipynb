{
 "cells": [
  {
   "cell_type": "code",
   "execution_count": 69,
   "metadata": {},
   "outputs": [
    {
     "data": {
      "text/html": [
       "<div><style>\n",
       ".dataframe > thead > tr > th,\n",
       ".dataframe > tbody > tr > td {\n",
       "  text-align: right;\n",
       "}\n",
       "</style>\n",
       "<small>shape: (5, 32)</small><table border=\"1\" class=\"dataframe\"><thead><tr><th>id</th><th>diagnosis</th><th>radius_mean</th><th>texture_mean</th><th>perimeter_mean</th><th>area_mean</th><th>smoothness_mean</th><th>compactness_mean</th><th>concavity_mean</th><th>concave points_mean</th><th>symmetry_mean</th><th>fractal_dimension_mean</th><th>radius_se</th><th>texture_se</th><th>perimeter_se</th><th>area_se</th><th>smoothness_se</th><th>compactness_se</th><th>concavity_se</th><th>concave points_se</th><th>symmetry_se</th><th>fractal_dimension_se</th><th>radius_worst</th><th>texture_worst</th><th>perimeter_worst</th><th>area_worst</th><th>smoothness_worst</th><th>compactness_worst</th><th>concavity_worst</th><th>concave points_worst</th><th>symmetry_worst</th><th>fractal_dimension_worst</th></tr><tr><td>i64</td><td>str</td><td>f64</td><td>f64</td><td>f64</td><td>f64</td><td>f64</td><td>f64</td><td>f64</td><td>f64</td><td>f64</td><td>f64</td><td>f64</td><td>f64</td><td>f64</td><td>f64</td><td>f64</td><td>f64</td><td>f64</td><td>f64</td><td>f64</td><td>f64</td><td>f64</td><td>f64</td><td>f64</td><td>f64</td><td>f64</td><td>f64</td><td>f64</td><td>f64</td><td>f64</td><td>f64</td></tr></thead><tbody><tr><td>926424</td><td>&quot;M&quot;</td><td>21.56</td><td>22.39</td><td>142.0</td><td>1479.0</td><td>0.111</td><td>0.1159</td><td>0.2439</td><td>0.1389</td><td>0.1726</td><td>0.05623</td><td>1.176</td><td>1.256</td><td>7.673</td><td>158.7</td><td>0.0103</td><td>0.02891</td><td>0.05198</td><td>0.02454</td><td>0.01114</td><td>0.004239</td><td>25.45</td><td>26.4</td><td>166.1</td><td>2027.0</td><td>0.141</td><td>0.2113</td><td>0.4107</td><td>0.2216</td><td>0.206</td><td>0.07115</td></tr><tr><td>926682</td><td>&quot;M&quot;</td><td>20.13</td><td>28.25</td><td>131.2</td><td>1261.0</td><td>0.0978</td><td>0.1034</td><td>0.144</td><td>0.09791</td><td>0.1752</td><td>0.05533</td><td>0.7655</td><td>2.463</td><td>5.203</td><td>99.04</td><td>0.005769</td><td>0.02423</td><td>0.0395</td><td>0.01678</td><td>0.01898</td><td>0.002498</td><td>23.69</td><td>38.25</td><td>155.0</td><td>1731.0</td><td>0.1166</td><td>0.1922</td><td>0.3215</td><td>0.1628</td><td>0.2572</td><td>0.06637</td></tr><tr><td>926954</td><td>&quot;M&quot;</td><td>16.6</td><td>28.08</td><td>108.3</td><td>858.1</td><td>0.08455</td><td>0.1023</td><td>0.09251</td><td>0.05302</td><td>0.159</td><td>0.05648</td><td>0.4564</td><td>1.075</td><td>3.425</td><td>48.55</td><td>0.005903</td><td>0.03731</td><td>0.0473</td><td>0.01557</td><td>0.01318</td><td>0.003892</td><td>18.98</td><td>34.12</td><td>126.7</td><td>1124.0</td><td>0.1139</td><td>0.3094</td><td>0.3403</td><td>0.1418</td><td>0.2218</td><td>0.0782</td></tr><tr><td>927241</td><td>&quot;M&quot;</td><td>20.6</td><td>29.33</td><td>140.1</td><td>1265.0</td><td>0.1178</td><td>0.277</td><td>0.3514</td><td>0.152</td><td>0.2397</td><td>0.07016</td><td>0.726</td><td>1.595</td><td>5.772</td><td>86.22</td><td>0.006522</td><td>0.06158</td><td>0.07117</td><td>0.01664</td><td>0.02324</td><td>0.006185</td><td>25.74</td><td>39.42</td><td>184.6</td><td>1821.0</td><td>0.165</td><td>0.8681</td><td>0.9387</td><td>0.265</td><td>0.4087</td><td>0.124</td></tr><tr><td>92751</td><td>&quot;B&quot;</td><td>7.76</td><td>24.54</td><td>47.92</td><td>181.0</td><td>0.05263</td><td>0.04362</td><td>0.0</td><td>0.0</td><td>0.1587</td><td>0.05884</td><td>0.3857</td><td>1.428</td><td>2.548</td><td>19.15</td><td>0.007189</td><td>0.00466</td><td>0.0</td><td>0.0</td><td>0.02676</td><td>0.002783</td><td>9.456</td><td>30.37</td><td>59.16</td><td>268.6</td><td>0.08996</td><td>0.06444</td><td>0.0</td><td>0.0</td><td>0.2871</td><td>0.07039</td></tr></tbody></table></div>"
      ],
      "text/plain": [
       "shape: (5, 32)\n",
       "┌────────┬───────────┬───────────┬────────────┬───┬────────────┬────────────┬────────────┬────────────┐\n",
       "│ id     ┆ diagnosis ┆ radius_me ┆ texture_me ┆ … ┆ concavity_ ┆ concave    ┆ symmetry_w ┆ fractal_di │\n",
       "│ ---    ┆ ---       ┆ an        ┆ an         ┆   ┆ worst      ┆ points_wor ┆ orst       ┆ mension_wo │\n",
       "│ i64    ┆ str       ┆ ---       ┆ ---        ┆   ┆ ---        ┆ st         ┆ ---        ┆ rst        │\n",
       "│        ┆           ┆ f64       ┆ f64        ┆   ┆ f64        ┆ ---        ┆ f64        ┆ ---        │\n",
       "│        ┆           ┆           ┆            ┆   ┆            ┆ f64        ┆            ┆ f64        │\n",
       "╞════════╪═══════════╪═══════════╪════════════╪═══╪════════════╪════════════╪════════════╪════════════╡\n",
       "│ 926424 ┆ M         ┆ 21.56     ┆ 22.39      ┆ … ┆ 0.4107     ┆ 0.2216     ┆ 0.206      ┆ 0.07115    │\n",
       "│ 926682 ┆ M         ┆ 20.13     ┆ 28.25      ┆ … ┆ 0.3215     ┆ 0.1628     ┆ 0.2572     ┆ 0.06637    │\n",
       "│ 926954 ┆ M         ┆ 16.6      ┆ 28.08      ┆ … ┆ 0.3403     ┆ 0.1418     ┆ 0.2218     ┆ 0.0782     │\n",
       "│ 927241 ┆ M         ┆ 20.6      ┆ 29.33      ┆ … ┆ 0.9387     ┆ 0.265      ┆ 0.4087     ┆ 0.124      │\n",
       "│ 92751  ┆ B         ┆ 7.76      ┆ 24.54      ┆ … ┆ 0.0        ┆ 0.0        ┆ 0.2871     ┆ 0.07039    │\n",
       "└────────┴───────────┴───────────┴────────────┴───┴────────────┴────────────┴────────────┴────────────┘"
      ]
     },
     "execution_count": 69,
     "metadata": {},
     "output_type": "execute_result"
    }
   ],
   "source": [
    "from sklearn.model_selection import KFold\n",
    "import polars as pl\n",
    "\n",
    "TARGET = 'diagnosis'\n",
    "\n",
    "def fetch_data(df, use_split):\n",
    "    assert(use_split >= 0 and use_split <= 4)\n",
    "    # Perform 5-fold cross validation with a deterministic seed\n",
    "    kf = KFold(n_splits=5, shuffle=True, random_state=2023)\n",
    "    splits = list(kf.split(df))\n",
    "    # Indexing the dataframe with an array returns the appropriate splits\n",
    "    df_train, df_test = df[splits[use_split][0]], df[splits[use_split][1]]\n",
    "    return df_train, df_test\n",
    "\n",
    "def get_x_y(df):\n",
    "    X, y = df.drop(['id', TARGET]), df.get_column(TARGET) # we don't care about the ID column either\n",
    "    return X.to_numpy(), y.to_numpy()\n",
    "\n",
    "df = pl.read_csv('data.csv', has_header=True)\n",
    "df_train, df_test = fetch_data(df, 0)\n",
    "X_train, y_train = get_x_y(df_train)\n",
    "X_test, y_test = get_x_y(df_test)\n",
    "df_train.tail()"
   ]
  },
  {
   "cell_type": "code",
   "execution_count": 70,
   "metadata": {},
   "outputs": [
    {
     "data": {
      "text/plain": [
       "0.9736842105263158"
      ]
     },
     "execution_count": 70,
     "metadata": {},
     "output_type": "execute_result"
    }
   ],
   "source": [
    "from sklearn.pipeline import make_pipeline\n",
    "from sklearn.preprocessing import StandardScaler\n",
    "from sklearn.svm import SVC\n",
    "\n",
    "model = make_pipeline(StandardScaler(), SVC(gamma='auto'))\n",
    "model.fit(X_train, y_train)\n",
    "model.score(X_test, y_test)\n"
   ]
  },
  {
   "cell_type": "code",
   "execution_count": 71,
   "metadata": {},
   "outputs": [
    {
     "data": {
      "text/plain": [
       "[0.9736842105263158,\n",
       " 0.9824561403508771,\n",
       " 0.9736842105263158,\n",
       " 0.956140350877193,\n",
       " 0.9734513274336283]"
      ]
     },
     "execution_count": 71,
     "metadata": {},
     "output_type": "execute_result"
    }
   ],
   "source": [
    "def svm(df, use_split):\n",
    "    df_train, df_test = fetch_data(df, use_split)\n",
    "    X_train, y_train = get_x_y(df_train)\n",
    "    X_test, y_test = get_x_y(df_test)\n",
    "    model = make_pipeline(StandardScaler(), SVC(gamma='auto')).fit(X_train, y_train)\n",
    "    return model.score(X_test, y_test)\n",
    "\n",
    "scores = [svm(df, x) for x in range(5)]\n",
    "scores"
   ]
  },
  {
   "cell_type": "code",
   "execution_count": 72,
   "metadata": {},
   "outputs": [
    {
     "data": {
      "image/png": "[encoded data removed]",
      "text/plain": [
       "<Figure size 600x600 with 1 Axes>"
      ]
     },
     "metadata": {},
     "output_type": "display_data"
    }
   ],
   "source": [
    "import matplotlib.pyplot as plt\n",
    "import seaborn\n",
    "import pandas as pd\n",
    "\n",
    "f, ax = plt.subplots(1, figsize=(6, 6))\n",
    "COLORS = seaborn.color_palette()\n",
    "\n",
    "plot_df = pd.DataFrame.from_dict({'Accuracy': scores, 'Trial': list(range(5))})\n",
    "ax.set_title('5-Fold Cross Validation Accuracy')\n",
    "seaborn.barplot(data=plot_df, x='Trial', y='Accuracy', ax=ax, color=COLORS[0])\n",
    "for container in ax.containers:\n",
    "    ax.bar_label(container, fmt=\"%.2f\")"
   ]
  }
 ],
 "metadata": {
  "kernelspec": {
   "display_name": "venv39",
   "language": "python",
   "name": "python3"
  },
  "language_info": {
   "codemirror_mode": {
    "name": "ipython",
    "version": 3
   },
   "file_extension": ".py",
   "mimetype": "text/x-python",
   "name": "python",
   "nbconvert_exporter": "python",
   "pygments_lexer": "ipython3",
   "version": "3.9.7"
  },
  "orig_nbformat": 4
 },
 "nbformat": 4,
 "nbformat_minor": 2
}
