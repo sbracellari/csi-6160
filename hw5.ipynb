{
 "cells": [
  {
   "attachments": {},
   "cell_type": "markdown",
   "metadata": {},
   "source": [
    "# CSI 6160 Homework 5\n",
    "### Samantha Bracellari & Justin Kur\n",
    "\n",
    "For this assignment, we used the breast cancer wisconsin dataset that can be found in the [UCI machine learning repository](https://archive.ics.uci.edu/ml/datasets/breast+cancer). This dataset has 286 samples and the following features:\n",
    "\n",
    "1. target: no-recurrence-events, recurrence-events \n",
    "2. age: 10-19, 20-29, 30-39, 40-49, 50-59, 60-69, 70-79, 80-89, 90-99. \n",
    "3. menopause: lt40, ge40, premeno. \n",
    "4. tumor-size: 0-4, 5-9, 10-14, 15-19, 20-24, 25-29, 30-34, 35-39, 40-44, 45-49, 50-54, 55-59. \n",
    "5. inv-nodes: 0-2, 3-5, 6-8, 9-11, 12-14, 15-17, 18-20, 21-23, 24-26, 27-29, 30-32, 33-35, 36-39. \n",
    "6. node-caps: yes, no. \n",
    "7. deg-malig: 1, 2, 3. \n",
    "8. breast: left, right. \n",
    "9. breast-quad: left-up, left-low, right-up, right-low, central. \n",
    "10. irradiat: yes, no.\n",
    "\n",
    "We fill any missing values with the mean of that value's respective column, and then finish by performing 5-fold cross validation and splitting the data into train and test sets. 80% of the data will be used for training, while the remaining 20% will be used for testing. We're using stratified k-fold for this assignment to make the ratio of positive and negative classes consistent in each split. If we want that ratio to be 1:1, we would have to under-sample the data. This could potentially hurt the model's accuracy though, since there are already so few examples to begin with."
   ]
  },
  {
   "cell_type": "code",
   "execution_count": 104,
   "metadata": {},
   "outputs": [
    {
     "name": "stdout",
     "output_type": "stream",
     "text": [
      "% of positive samples: 65.71428571428571\n"
     ]
    }
   ],
   "source": [
    "from sklearn.model_selection import StratifiedKFold\n",
    "import polars as pl\n",
    "\n",
    "TARGET = 'column_11'\n",
    "\n",
    "def fetch_data(df, use_split):\n",
    "    assert(use_split >= 0 and use_split <= 4)\n",
    "    # perform 5-fold cross validation with a deterministic seed\n",
    "    # we use stratified k-fold to help balance each split\n",
    "    kf = StratifiedKFold(n_splits=5, shuffle=True, random_state=2028)\n",
    "    split_x, split_y = get_x_y(df)\n",
    "    splits = list(kf.split(split_x, split_y))\n",
    "\n",
    "    # indexing the dataframe with an array returns the appropriate splits\n",
    "    df_train, df_test = df[splits[use_split][0]], df[splits[use_split][1]]\n",
    "\n",
    "    # fill missing values with column avg\n",
    "    mean = df_train.get_column('column_7').mean()\n",
    "    df_train = df_train.with_columns('column_7').fill_null(mean)\n",
    "    df_test = df_test.with_columns('column_7').fill_null(mean)\n",
    "    return df_train, df_test\n",
    "\n",
    "def get_x_y(df):\n",
    "    X, y = df.drop(['column_1', TARGET]), df.get_column(TARGET) # we don't need the ID column\n",
    "    return X.to_numpy(), y.to_numpy()\n",
    "\n",
    "df = pl.read_csv('breast-cancer-wisconsin.data', has_header=False, null_values='?')\n",
    "df_train, df_test = fetch_data(df, 0)\n",
    "X_train, y_train = get_x_y(df_train)\n",
    "X_test, y_test = get_x_y(df_test)\n",
    "df_train.tail()\n",
    "\n",
    "# not exactly 50%, but somewhat close\n",
    "print('% of positive samples:', 100*(df_test.get_column(TARGET) == 2.0).sum() / len(df_test))"
   ]
  },
  {
   "attachments": {},
   "cell_type": "markdown",
   "metadata": {},
   "source": [
    "### SVM using Sci-Kit Learn\n",
    "\n",
    "We use sklearn's implementation of SVM for this assignment. Using their default values with no split, we can see that the model achieves about a 96% accuracy score."
   ]
  },
  {
   "cell_type": "code",
   "execution_count": 105,
   "metadata": {},
   "outputs": [
    {
     "data": {
      "text/plain": [
       "0.9571428571428572"
      ]
     },
     "execution_count": 105,
     "metadata": {},
     "output_type": "execute_result"
    }
   ],
   "source": [
    "from sklearn.pipeline import make_pipeline\n",
    "from sklearn.preprocessing import StandardScaler\n",
    "from sklearn.svm import SVC\n",
    "\n",
    "model = make_pipeline(StandardScaler(), SVC(gamma='auto'))\n",
    "model.fit(X_train, y_train)\n",
    "model.score(X_test, y_test)\n"
   ]
  },
  {
   "attachments": {},
   "cell_type": "markdown",
   "metadata": {},
   "source": [
    "#### K-Fold & Multiple Accuracy Metrics\n",
    "\n",
    "We played around with the hyper parameters for the SVM model and ended up using 1.69 for the regularization parameter (C) and `rbf` for the kernel (this is the default kernel value). The kernel coefficient, or the gamma value, was set to `auto`.\n",
    "\n",
    "In addition to calculating the accuracy score using the model's `score` method (which returns the mean accuracy of the provided test data), we also took a look at the `balanced_accuracy_score`, which is recommended for imbalanced datasets. The breast cancer dataset isn't heavily imbalanced, but we wanted to see if there would be any difference."
   ]
  },
  {
   "cell_type": "code",
   "execution_count": 106,
   "metadata": {},
   "outputs": [
    {
     "data": {
      "text/html": [
       "<div><style>\n",
       ".dataframe > thead > tr > th,\n",
       ".dataframe > tbody > tr > td {\n",
       "  text-align: right;\n",
       "}\n",
       "</style>\n",
       "<small>shape: (5, 3)</small><table border=\"1\" class=\"dataframe\"><thead><tr><th>split</th><th>score</th><th>balanced_score</th></tr><tr><td>f64</td><td>f64</td><td>f64</td></tr></thead><tbody><tr><td>0.0</td><td>0.95</td><td>0.947011</td></tr><tr><td>1.0</td><td>0.957143</td><td>0.957428</td></tr><tr><td>2.0</td><td>0.978571</td><td>0.973732</td></tr><tr><td>3.0</td><td>0.971429</td><td>0.978022</td></tr><tr><td>4.0</td><td>0.964029</td><td>0.962683</td></tr></tbody></table></div>"
      ],
      "text/plain": [
       "shape: (5, 3)\n",
       "┌───────┬──────────┬────────────────┐\n",
       "│ split ┆ score    ┆ balanced_score │\n",
       "│ ---   ┆ ---      ┆ ---            │\n",
       "│ f64   ┆ f64      ┆ f64            │\n",
       "╞═══════╪══════════╪════════════════╡\n",
       "│ 0.0   ┆ 0.95     ┆ 0.947011       │\n",
       "│ 1.0   ┆ 0.957143 ┆ 0.957428       │\n",
       "│ 2.0   ┆ 0.978571 ┆ 0.973732       │\n",
       "│ 3.0   ┆ 0.971429 ┆ 0.978022       │\n",
       "│ 4.0   ┆ 0.964029 ┆ 0.962683       │\n",
       "└───────┴──────────┴────────────────┘"
      ]
     },
     "execution_count": 106,
     "metadata": {},
     "output_type": "execute_result"
    }
   ],
   "source": [
    "from sklearn.metrics import balanced_accuracy_score\n",
    "import numpy as np\n",
    "\n",
    "def svm(df, use_split):\n",
    "    df_train, df_test = fetch_data(df, use_split)\n",
    "    X_train, y_train = get_x_y(df_train)\n",
    "    X_test, y_test = get_x_y(df_test)\n",
    "    model = make_pipeline(StandardScaler(), SVC(gamma='auto', kernel='rbf', C=1.69)).fit(X_train, y_train)\n",
    "    pred = model.predict(X_test)\n",
    "    return [use_split, model.score(X_test, y_test), balanced_accuracy_score(y_test, pred)]\n",
    "\n",
    "scores = np.array([svm(df, x) for x in range(5)])\n",
    "df = pl.DataFrame(scores, schema=['split', 'score', 'balanced_score'])\n",
    "df"
   ]
  },
  {
   "attachments": {},
   "cell_type": "markdown",
   "metadata": {},
   "source": [
    "### Results\n",
    "\n",
    "We can see that both methods perform about the same, with every trial achieving an accuracy score of 95% or above."
   ]
  },
  {
   "cell_type": "code",
   "execution_count": 107,
   "metadata": {},
   "outputs": [
    {
     "data": {
      "image/png": "[encoded data removed]",
      "text/plain": [
       "<Figure size 640x480 with 1 Axes>"
      ]
     },
     "metadata": {},
     "output_type": "display_data"
    }
   ],
   "source": [
    "import matplotlib.pyplot as plt\n",
    "import seaborn\n",
    "import pandas as pd\n",
    "\n",
    "plt.style.use('ggplot')\n",
    "COLORS = seaborn.color_palette()\n",
    "f, ax = plt.subplots()\n",
    "\n",
    "unbalanced, balanced = scores[:, 1], scores[:, 2]\n",
    "\n",
    "method = ['Score' for _ in range(5)] + ['Balanced Score' for _ in range(5)]\n",
    "plot_df = pd.DataFrame.from_dict({'Accuracy': np.concatenate([unbalanced,balanced]), 'Method': method, 'Trial': list(range(5)) + list(range(5))})\n",
    "ax.set_title('5-Fold Cross Validation Accuracy Score')\n",
    "seaborn.barplot(data=plot_df, x='Trial', y='Accuracy', hue='Method', ax=ax, palette=COLORS)\n",
    "seaborn.move_legend(ax, 'lower center')\n",
    "for container in ax.containers:\n",
    "    ax.bar_label(container, fmt='%.2f')"
   ]
  }
 ],
 "metadata": {
  "kernelspec": {
   "display_name": "venv39",
   "language": "python",
   "name": "python3"
  },
  "language_info": {
   "codemirror_mode": {
    "name": "ipython",
    "version": 3
   },
   "file_extension": ".py",
   "mimetype": "text/x-python",
   "name": "python",
   "nbconvert_exporter": "python",
   "pygments_lexer": "ipython3",
   "version": "3.9.7"
  },
  "orig_nbformat": 4
 },
 "nbformat": 4,
 "nbformat_minor": 2
}
