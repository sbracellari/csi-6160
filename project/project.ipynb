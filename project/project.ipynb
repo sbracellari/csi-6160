{
 "cells": [
  {
   "cell_type": "code",
   "execution_count": 1,
   "metadata": {},
   "outputs": [],
   "source": [
    "import numpy as np\n",
    "import numpy.random as rand"
   ]
  },
  {
   "cell_type": "code",
   "execution_count": 2,
   "metadata": {},
   "outputs": [
    {
     "name": "stderr",
     "output_type": "stream",
     "text": [
      "/home/justin/miniconda3/envs/lightning/lib/python3.10/site-packages/tqdm/auto.py:22: TqdmWarning: IProgress not found. Please update jupyter and ipywidgets. See https://ipywidgets.readthedocs.io/en/stable/user_install.html\n",
      "  from .autonotebook import tqdm as notebook_tqdm\n"
     ]
    }
   ],
   "source": [
    "from torchvision.datasets import MNIST"
   ]
  },
  {
   "cell_type": "code",
   "execution_count": 16,
   "metadata": {},
   "outputs": [],
   "source": [
    "train = MNIST(\"data\", train=True, download=True)\n",
    "test = MNIST(\"data\", train=False, download=True)"
   ]
  },
  {
   "cell_type": "code",
   "execution_count": 19,
   "metadata": {},
   "outputs": [
    {
     "data": {
      "text/plain": [
       "torch.Size([60000, 784])"
      ]
     },
     "execution_count": 19,
     "metadata": {},
     "output_type": "execute_result"
    }
   ],
   "source": [
    "foo = train.data.flatten(start_dim=1)\n",
    "foo.size()"
   ]
  },
  {
   "cell_type": "code",
   "execution_count": 15,
   "metadata": {},
   "outputs": [
    {
     "data": {
      "text/plain": [
       "torch.Size([60000])"
      ]
     },
     "execution_count": 15,
     "metadata": {},
     "output_type": "execute_result"
    }
   ],
   "source": [
    "train.targets.size()"
   ]
  },
  {
   "cell_type": "code",
   "execution_count": 130,
   "metadata": {},
   "outputs": [
    {
     "data": {
      "text/plain": [
       "0.559"
      ]
     },
     "execution_count": 130,
     "metadata": {},
     "output_type": "execute_result"
    }
   ],
   "source": [
    "from sklearn.datasets import load_digits\n",
    "from sklearn.model_selection import train_test_split\n",
    "from sklearn.ensemble import RandomForestClassifier\n",
    "\n",
    "# X, y = load_digits(return_X_y=True)\n",
    "# X_train, X_test, y_train, y_test = train_test_split(X, y, test_size=0.2, random_state=2023)\n",
    "\n",
    "# model = RandomForestClassifier(\n",
    "#     n_estimators=100, max_depth=38, random_state=2023, min_samples_split=0.01, min_samples_leaf=25,\n",
    "#     max_features=1\n",
    "# )\n",
    "# Max Features\n",
    "crit = \"gini\"\n",
    "n_samples = 100\n",
    "model = RandomForestClassifier(criterion=crit, n_estimators=10, random_state=420, max_depth=5, min_samples_leaf=1, \n",
    "                               max_features=25, min_samples_split=2,ccp_alpha=0.01, min_impurity_decrease=0.01)\n",
    "model.fit(train.data[0:n_samples, :, :].flatten(start_dim=1), train.targets[0:n_samples])\n",
    "\n",
    "model.score(test.data[:, :, :].flatten(start_dim=1), test.targets[:])"
   ]
  },
  {
   "cell_type": "code",
   "execution_count": 30,
   "metadata": {},
   "outputs": [
    {
     "name": "stdout",
     "output_type": "stream",
     "text": [
      "4.006490358609521\n",
      "[0.9208981  0.95892401 0.40608905 0.99211276 0.72846643]\n",
      "4.133913498913904\n",
      "[0.9208981  0.95892401 0.53351219 0.99211276 0.72846643]\n",
      "4.133913498913904\n",
      "[0.9208981  0.95892401 0.53351219 0.99211276 0.72846643]\n",
      "4.133913498913904\n",
      "[0.9208981  0.95892401 0.53351219 0.99211276 0.72846643]\n",
      "4.133913498913904\n",
      "[0.9208981  0.95892401 0.53351219 0.99211276 0.72846643]\n",
      "4.173846084992998\n",
      "[1.173577   0.71934997 1.01741206 0.45910316 0.8044039 ]\n",
      "4.2646803318715785\n",
      "[0.88192051 1.45127139 0.97009402 0.66648024 0.29491417]\n",
      "4.3406290961836556\n",
      "[0.88226493 1.45127139 0.97009402 0.66648024 0.37051852]\n",
      "4.52739583448014\n",
      "[1.14463601 1.45127139 0.97009402 0.66648024 0.29491417]\n",
      "4.52739583448014\n",
      "[1.14463601 1.45127139 0.97009402 0.66648024 0.29491417]\n"
     ]
    }
   ],
   "source": [
    "NUM_DIM = 5\n",
    "LIMIT = 4\n",
    "\n",
    "class Solutions:\n",
    "    def __init__(self, num):\n",
    "        self.solutions = np.stack([Solutions.new_solution() for _ in range(num)])\n",
    "        self.employed = np.array([True] * (num // 2) + [False] * (num // 2))\n",
    "        self.failures = np.zeros_like(self.employed, np.int32)\n",
    "        self.onlooker = np.logical_not(self.employed) # Unemployed\n",
    "        self.best_fitness = -1\n",
    "        self.best_sol = None \n",
    "\n",
    "    @staticmethod\n",
    "    def new_solution():\n",
    "        return rand.random(size=NUM_DIM)\n",
    "\n",
    "    def random_sol(self, exclude=-1):\n",
    "        if exclude == -1:\n",
    "            return rand.choice(self.solutions)\n",
    "        else:\n",
    "            rand_idx = rand.randint(0, self.solutions.shape[0])\n",
    "            if rand_idx == exclude:\n",
    "                return self.random_sol(exclude=exclude)\n",
    "            else:\n",
    "                return self.solutions[rand_idx]\n",
    "\n",
    "    def get_employed(self):\n",
    "        return self.solutions[self.employed]\n",
    "\n",
    "    def get_unemployed(self):\n",
    "        return self.solutions[np.logical_not(self.employed)]\n",
    "        \n",
    "    def get_onlooker(self):\n",
    "        return self.solutions[self.onlooker]\n",
    "\n",
    "    def get_scout(self):\n",
    "        return self.solutions[self.scout]\n",
    "\n",
    "    def fitness(self, x):\n",
    "        # Todo return some positive number\n",
    "        fit = np.abs(x).sum()\n",
    "        return fit\n",
    "\n",
    "    def most_fit(self):\n",
    "        fit = np.array([self.fitness(x) for x in self.solutions])\n",
    "        idx = fit.argmax()\n",
    "        return fit[idx], self.solutions[idx]\n",
    "\n",
    "    def update_best(self):\n",
    "        best_fit, best_sol = self.most_fit()\n",
    "        if best_fit > self.best_fitness:\n",
    "            self.best_sol = best_sol\n",
    "            self.best_fitness = best_fit\n",
    "\n",
    "def basic_employed(sol: Solutions, initial_idx: int):\n",
    "    initial = sol.solutions[initial_idx]\n",
    "    a = 0.1 # Todo figure this out\n",
    "    idx = rand.randint(0, initial.size)\n",
    "    phi = rand.uniform(low=-a, high=a)\n",
    "    out = np.copy(initial)\n",
    "    sol_k = sol.random_sol(exclude=initial_idx)\n",
    "    out[idx] += phi * (out[idx] - sol_k[idx])\n",
    "    # Todo make sure values stay within expected range\n",
    "    return out # Greedy select this\n",
    "\n",
    "def basic_onlooker(sol: Solutions):\n",
    "    employed = sol.get_employed()\n",
    "    fitnesses = np.array([sol.fitness(x) for x in employed]) # Todo figure out how to cache fitness\n",
    "    total_fitness = np.sum(fitnesses)\n",
    "    bee_idx = rand.choice(np.arange(len(employed)), p=fitnesses/total_fitness)\n",
    "    return basic_employed(sol, bee_idx)\n",
    "\n",
    "def vanilla_abc(num_bees, epoches):\n",
    "    # init_bees()\n",
    "    sol = Solutions(num_bees)\n",
    "    for _ in range(epoches):\n",
    "        # Employed\n",
    "        for idx in sol.employed.nonzero()[0]:\n",
    "            candidate = basic_employed(sol, idx)\n",
    "            if sol.fitness(candidate) > sol.fitness(sol.solutions[idx]):\n",
    "                sol.solutions[idx] = candidate\n",
    "                sol.failures[idx] = 0\n",
    "            else:\n",
    "                sol.failures[idx] += 1\n",
    "        # Onlooker\n",
    "        for idx in sol.onlooker.nonzero()[0]:\n",
    "            candidate = basic_onlooker(sol)\n",
    "            if sol.fitness(candidate) > sol.fitness(sol.solutions[idx]):\n",
    "                sol.solutions[idx] = candidate\n",
    "        # Scout\n",
    "        for idx in sol.employed.nonzero()[0]:\n",
    "            if sol.failures[idx] >= LIMIT:\n",
    "                sol.failures[idx] = 0\n",
    "                sol.solutions[idx, :] = Solutions.new_solution()\n",
    "        # Mark best\n",
    "        sol.update_best()\n",
    "        print(sol.best_fitness)\n",
    "        print(sol.best_sol)\n",
    "\n",
    "\n",
    "vanilla_abc(100, 10)"
   ]
  }
 ],
 "metadata": {
  "kernelspec": {
   "display_name": "lightning",
   "language": "python",
   "name": "python3"
  },
  "language_info": {
   "codemirror_mode": {
    "name": "ipython",
    "version": 3
   },
   "file_extension": ".py",
   "mimetype": "text/x-python",
   "name": "python",
   "nbconvert_exporter": "python",
   "pygments_lexer": "ipython3",
   "version": "3.10.9"
  },
  "orig_nbformat": 4,
  "vscode": {
   "interpreter": {
    "hash": "3b3ac4f165dd888171771316b43e76578a4a4463e6a4b92e07e5d333979bdd5c"
   }
  }
 },
 "nbformat": 4,
 "nbformat_minor": 2
}
