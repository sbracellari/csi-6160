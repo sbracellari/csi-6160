{
 "cells": [
  {
   "attachments": {},
   "cell_type": "markdown",
   "metadata": {},
   "source": [
    "# CSI 6160 Homework 6\n",
    "### Samantha Bracellari & Justin Kur\n",
    "\n",
    "For this assignment, we used the iris dataset that can be found in the [UCI machine learning repository](https://archive.ics.uci.edu/ml/datasets/iris). This dataset has 150 samples and the following features:\n",
    "\n",
    "1. sepal length in cm \n",
    "2. sepal width in cm \n",
    "3. petal length in cm \n",
    "4. petal width in cm  \n",
    "5. class:\n",
    "   - Iris Setosa \n",
    "   - Iris Versicolour \n",
    "   - Iris Virginica\n",
    "\n",
    "We perform stratified 5-fold cross validation and split the data into train and test sets. 80% of the data will be used for training, while the remaining 20% will be used for testing. We're using stratified k-fold for this assignment to make the ratio of positive and negative classes consistent in each split.\n",
    "\n",
    "We also pass an optional dimension parameter while retrieving the data. This indicates whether or not we use PCA on the data to reduce its dimensionality down to 2D. This is done mainly for visualization purposes.\n",
    "\n",
    "Lastly, we add an additional column to the data that represents the class as an int (0 for setosa, 1 for versicolor, and 2 for virginica). Doing so will ensure that our predictions are in line with the true labels; otherwise, the model may take unnecessary hits on its accuracy."
   ]
  },
  {
   "cell_type": "code",
   "execution_count": 1,
   "metadata": {},
   "outputs": [
    {
     "data": {
      "text/html": [
       "<div>\n",
       "<style>\n",
       ".pl-dataframe > thead > tr > th {\n",
       "  text-align: right;\n",
       "}\n",
       "</style>\n",
       "\n",
       "<table border=\"1\" class=\"dataframe pl-dataframe\">\n",
       "<small>shape: (5, 6)</small>\n",
       "<thead>\n",
       "<tr>\n",
       "<th>\n",
       "column_1\n",
       "</th>\n",
       "<th>\n",
       "column_2\n",
       "</th>\n",
       "<th>\n",
       "column_3\n",
       "</th>\n",
       "<th>\n",
       "column_4\n",
       "</th>\n",
       "<th>\n",
       "Label\n",
       "</th>\n",
       "<th>\n",
       "Label_Int\n",
       "</th>\n",
       "</tr>\n",
       "<tr>\n",
       "<td>\n",
       "f64\n",
       "</td>\n",
       "<td>\n",
       "f64\n",
       "</td>\n",
       "<td>\n",
       "f64\n",
       "</td>\n",
       "<td>\n",
       "f64\n",
       "</td>\n",
       "<td>\n",
       "str\n",
       "</td>\n",
       "<td>\n",
       "u32\n",
       "</td>\n",
       "</tr>\n",
       "</thead>\n",
       "<tbody>\n",
       "<tr>\n",
       "<td>\n",
       "6.8\n",
       "</td>\n",
       "<td>\n",
       "3.2\n",
       "</td>\n",
       "<td>\n",
       "5.9\n",
       "</td>\n",
       "<td>\n",
       "2.3\n",
       "</td>\n",
       "<td>\n",
       "&quot;Iris-virginica...\n",
       "</td>\n",
       "<td>\n",
       "2\n",
       "</td>\n",
       "</tr>\n",
       "<tr>\n",
       "<td>\n",
       "6.7\n",
       "</td>\n",
       "<td>\n",
       "3.3\n",
       "</td>\n",
       "<td>\n",
       "5.7\n",
       "</td>\n",
       "<td>\n",
       "2.5\n",
       "</td>\n",
       "<td>\n",
       "&quot;Iris-virginica...\n",
       "</td>\n",
       "<td>\n",
       "2\n",
       "</td>\n",
       "</tr>\n",
       "<tr>\n",
       "<td>\n",
       "6.7\n",
       "</td>\n",
       "<td>\n",
       "3.0\n",
       "</td>\n",
       "<td>\n",
       "5.2\n",
       "</td>\n",
       "<td>\n",
       "2.3\n",
       "</td>\n",
       "<td>\n",
       "&quot;Iris-virginica...\n",
       "</td>\n",
       "<td>\n",
       "2\n",
       "</td>\n",
       "</tr>\n",
       "<tr>\n",
       "<td>\n",
       "6.5\n",
       "</td>\n",
       "<td>\n",
       "3.0\n",
       "</td>\n",
       "<td>\n",
       "5.2\n",
       "</td>\n",
       "<td>\n",
       "2.0\n",
       "</td>\n",
       "<td>\n",
       "&quot;Iris-virginica...\n",
       "</td>\n",
       "<td>\n",
       "2\n",
       "</td>\n",
       "</tr>\n",
       "<tr>\n",
       "<td>\n",
       "6.2\n",
       "</td>\n",
       "<td>\n",
       "3.4\n",
       "</td>\n",
       "<td>\n",
       "5.4\n",
       "</td>\n",
       "<td>\n",
       "2.3\n",
       "</td>\n",
       "<td>\n",
       "&quot;Iris-virginica...\n",
       "</td>\n",
       "<td>\n",
       "2\n",
       "</td>\n",
       "</tr>\n",
       "</tbody>\n",
       "</table>\n",
       "</div>"
      ],
      "text/plain": [
       "shape: (5, 6)\n",
       "┌──────────┬──────────┬──────────┬──────────┬────────────────┬───────────┐\n",
       "│ column_1 ┆ column_2 ┆ column_3 ┆ column_4 ┆ Label          ┆ Label_Int │\n",
       "│ ---      ┆ ---      ┆ ---      ┆ ---      ┆ ---            ┆ ---       │\n",
       "│ f64      ┆ f64      ┆ f64      ┆ f64      ┆ str            ┆ u32       │\n",
       "╞══════════╪══════════╪══════════╪══════════╪════════════════╪═══════════╡\n",
       "│ 6.8      ┆ 3.2      ┆ 5.9      ┆ 2.3      ┆ Iris-virginica ┆ 2         │\n",
       "│ 6.7      ┆ 3.3      ┆ 5.7      ┆ 2.5      ┆ Iris-virginica ┆ 2         │\n",
       "│ 6.7      ┆ 3.0      ┆ 5.2      ┆ 2.3      ┆ Iris-virginica ┆ 2         │\n",
       "│ 6.5      ┆ 3.0      ┆ 5.2      ┆ 2.0      ┆ Iris-virginica ┆ 2         │\n",
       "│ 6.2      ┆ 3.4      ┆ 5.4      ┆ 2.3      ┆ Iris-virginica ┆ 2         │\n",
       "└──────────┴──────────┴──────────┴──────────┴────────────────┴───────────┘"
      ]
     },
     "execution_count": 1,
     "metadata": {},
     "output_type": "execute_result"
    }
   ],
   "source": [
    "from sklearn.model_selection import StratifiedKFold\n",
    "from sklearn.decomposition import PCA\n",
    "import polars as pl\n",
    "\n",
    "TARGET = 'Label_Int'\n",
    "CLUSTERS = 3\n",
    "\n",
    "def fetch_data(df, use_split, dim=4):\n",
    "    assert(use_split >= 0 and use_split <= 4)\n",
    "    # perform 5-fold cross validation with a deterministic seed\n",
    "    kf = StratifiedKFold(n_splits=5, shuffle=True, random_state=2028)\n",
    "    split_x, split_y = get_x_y(df)\n",
    "    splits = list(kf.split(split_x, split_y))\n",
    "\n",
    "    # indexing the dataframe with an array returns the appropriate splits\n",
    "    df_train, df_test = df[splits[use_split][0]], df[splits[use_split][1]]\n",
    "    if dim < 4:\n",
    "        pca = PCA(n_components=dim)\n",
    "        \n",
    "        train = df_train.select([f\"column_{i+1}\" for i in range(4)]).to_numpy()\n",
    "        train = pca.fit_transform(train)\n",
    "        test = df_test.select([f\"column_{i+1}\" for i in range(4)]).to_numpy()\n",
    "        test = pca.transform(test)\n",
    "        for i in range(dim):\n",
    "            series = pl.Series(f\"column_{i+1}\", train[:, i])\n",
    "            df_train = df_train.with_columns(series)\n",
    "            series = pl.Series(f\"column_{i+1}\", test[:, i])\n",
    "            df_test = df_test.with_columns(series)\n",
    "        for i in range(dim, 4):\n",
    "            df_train = df_train.drop(f\"column_{i+1}\")\n",
    "            df_test = df_test.drop(f\"column_{i+1}\")\n",
    "    return df_train, df_test\n",
    "\n",
    "def get_x_y(df):\n",
    "    df = df.drop(\"Label\")\n",
    "    X, y = df.drop(TARGET).to_numpy(), df.get_column(TARGET)\n",
    "    return X, y.to_numpy()\n",
    "\n",
    "df = pl.read_csv('iris.data', has_header=False)\n",
    "df = df.rename({\"column_5\": \"Label\"})\n",
    "df = df.with_columns(pl.col(\"Label\").cast(pl.Categorical).to_physical().alias(TARGET))\n",
    "df_train, df_test = fetch_data(df, 0)\n",
    "X_train, y_train = get_x_y(df_train)\n",
    "X_test, y_test = get_x_y(df_test)\n",
    "df_train.tail()"
   ]
  },
  {
   "cell_type": "code",
   "execution_count": 2,
   "metadata": {},
   "outputs": [
    {
     "data": {
      "text/plain": [
       "{0: 'Iris-setosa', 1: 'Iris-versicolor', 2: 'Iris-virginica'}"
      ]
     },
     "execution_count": 2,
     "metadata": {},
     "output_type": "execute_result"
    }
   ],
   "source": [
    "ID_TO_NAME = {}\n",
    "NAME_TO_ID = {}\n",
    "for p in df.partition_by(\"Label\"):\n",
    "    label = p.row(0)[-2]\n",
    "    id = p.row(0)[-1]\n",
    "    ID_TO_NAME[id] = label\n",
    "    NAME_TO_ID[label] = id\n",
    "ID_TO_NAME"
   ]
  },
  {
   "attachments": {},
   "cell_type": "markdown",
   "metadata": {},
   "source": [
    "### Benchmarking\n",
    "\n",
    "As per usual, we begin by setting a baseline with sklearn. Using the default parameters & 10 centroid initializations, sklearn is able to predict the correct iris class roughly 87% of the time.\n",
    "\n",
    "Our accuracy metric is straightforward this time. We simply measure the ratio of correct predictions to total test samples."
   ]
  },
  {
   "cell_type": "code",
   "execution_count": 3,
   "metadata": {},
   "outputs": [
    {
     "data": {
      "text/plain": [
       "0.8666666666666667"
      ]
     },
     "execution_count": 3,
     "metadata": {},
     "output_type": "execute_result"
    }
   ],
   "source": [
    "from sklearn.cluster import KMeans\n",
    "import numpy as np\n",
    "\n",
    "model = KMeans(n_clusters=CLUSTERS, random_state=2028, n_init=10)\n",
    "model.fit(X_train)\n",
    "\n",
    "preds = model.predict(X_test)\n",
    "np.count_nonzero(preds == y_test) / len(y_test)"
   ]
  },
  {
   "attachments": {},
   "cell_type": "markdown",
   "metadata": {},
   "source": [
    "### Our K-Means\n",
    "\n",
    "Our implementation of K-Means is on par with sklearn, also predicting the correct label about 87% of the time. This equates to 4 misclassified examples in total for the test set.\n",
    "\n",
    "To remain in-line with sklearn, we adapt our model to accept an `n_init` parameter, so that we have a better chance at reaching near-optimal centroid initialization. Additionally, we also initialize centroids using the kmeans++ method, which can be described as follows:\n",
    "\n",
    "1. initialize the first centroid randomly\n",
    "2. compute all distances from the data points to the selected centroid, and choose the farthest distance $x$\n",
    "3. make the point $x$ as the new centroid that has the maximum probability proportional to the farthest distance\n",
    "4. repeat steps 2 & 3 until all centroids are chosen"
   ]
  },
  {
   "cell_type": "code",
   "execution_count": 4,
   "metadata": {},
   "outputs": [
    {
     "data": {
      "text/plain": [
       "0.8666666666666667"
      ]
     },
     "execution_count": 4,
     "metadata": {},
     "output_type": "execute_result"
    }
   ],
   "source": [
    "import numpy as np\n",
    "from numpy.random import Generator, PCG64\n",
    "\n",
    "def euclidean(p1, p2):\n",
    "    return np.sqrt(np.sum((p1 - p2)**2, axis=1))\n",
    "\n",
    "# for each point, find the closest centroid & assign to a cluster\n",
    "def assign_clusters(X, centroids):\n",
    "    return [np.argmin(euclidean(x, centroids)) for x in X]\n",
    "\n",
    "def score_clusters(X, centroids):\n",
    "    return sum([np.min(euclidean(x, centroids)) for x in X])\n",
    "    \n",
    "# update the centroids\n",
    "def update_centroids(X, clusters):\n",
    "    centroids = []\n",
    "\n",
    "    for c in set(clusters):\n",
    "        cluster = X[np.where(clusters == c)[0]]\n",
    "        mean = cluster.mean(axis=0)\n",
    "        centroids.append(mean)\n",
    "    return centroids\n",
    "\n",
    "# initialize centroids using kmeans++ method\n",
    "def initialize_centroids(X, n_clusters, seed):\n",
    "    # randomly initialize one centroid.\n",
    "    gen = Generator(PCG64(seed=seed))\n",
    "    centroids = [gen.choice(X_train)]\n",
    "\n",
    "    for _ in range(n_clusters - 1):\n",
    "        distances = np.sum([euclidean(X_train, centroid) for centroid in centroids], axis=0)            \n",
    "        distances /= np.sum(distances) # normalize\n",
    "\n",
    "        # choose centroids probabilistically based on distance\n",
    "        centroid_idx = gen.choice(range(len(X_train)), size=1, p=distances)[0]\n",
    "        centroids += [X_train[centroid_idx]]\n",
    "    return centroids\n",
    "\n",
    "class K_Means():\n",
    "    def __init__(self, n_clusters, epochs=350, seed=482023, n_init=10):\n",
    "        self.n_clusters = n_clusters\n",
    "        self.epochs = epochs\n",
    "        self.centroids = []\n",
    "        self.seed = seed\n",
    "        self.n_init = n_init\n",
    "\n",
    "    def fit(self, X):\n",
    "        self.centroids = initialize_centroids(X, self.n_clusters, self.seed)\n",
    "        best_score = 1e10\n",
    "        epsilon = 1e-4\n",
    "        # Following sklearn, perform multiple initializations, choose the best based on total distance from cluster centers\n",
    "        for init in range(self.n_init):\n",
    "            centroids = initialize_centroids(X, self.n_clusters, self.seed + init)\n",
    "            clusters = assign_clusters(X, centroids)\n",
    "            centroids = update_centroids(X, clusters)\n",
    "            last_score = 1e10\n",
    "            for _ in range(self.epochs):\n",
    "                clusters = assign_clusters(X, centroids)\n",
    "                centroids = update_centroids(X, clusters)\n",
    "                score = score_clusters(X, centroids)\n",
    "                # Abort early if clusters do not change\n",
    "                if abs(score - last_score) < epsilon:\n",
    "                    break\n",
    "                last_score = score \n",
    "            if score < best_score:\n",
    "                self.centroids = centroids\n",
    "                self.clusters = clusters\n",
    "            \n",
    "    \n",
    "    def predict(self, X):\n",
    "        return np.array(assign_clusters(X, self.centroids))\n",
    "    \n",
    "def reassign(preds, actual):\n",
    "    '''Map each cluster to its majority label in the data, correcting arbitrary label values'''\n",
    "    assignment = np.zeros_like(preds)\n",
    "    for i in range(CLUSTERS):\n",
    "        # Select real labels of cluster\n",
    "        select = actual[(preds == i).nonzero()]\n",
    "        # Return mode\n",
    "        mode = 0\n",
    "        mode_count = -1\n",
    "        for c in range(CLUSTERS):\n",
    "            total = (select == c).sum()\n",
    "            if total > mode_count:\n",
    "                mode_count = total \n",
    "                mode = c\n",
    "        assignment[(preds == i).nonzero()] = mode\n",
    "    return assignment\n",
    "\n",
    "model = K_Means(n_clusters=CLUSTERS) \n",
    "model.fit(X_train)\n",
    "\n",
    "preds = model.predict(X_test)\n",
    "preds = reassign(preds, y_test)\n",
    "np.count_nonzero(preds == y_test) / len(y_test)"
   ]
  },
  {
   "cell_type": "code",
   "execution_count": 5,
   "metadata": {},
   "outputs": [],
   "source": [
    "def run_experiment(df, use_split):\n",
    "    df_train, df_test = fetch_data(df, use_split)\n",
    "    X_train, _ = get_x_y(df_train)\n",
    "    X_test, y_test = get_x_y(df_test)\n",
    "    model = K_Means(n_clusters=CLUSTERS) \n",
    "    model.fit(X_train) \n",
    "    preds = model.predict(X_test)\n",
    "    preds = reassign(preds, y_test)\n",
    "    return len(y_test) - np.count_nonzero(preds == y_test)\n",
    "\n",
    "def sk_bench(df, use_split):\n",
    "    df_train, df_test = fetch_data(df, use_split)\n",
    "    X_train, _ = get_x_y(df_train)\n",
    "    X_test, y_test = get_x_y(df_test)\n",
    "    model = KMeans(n_clusters=CLUSTERS, random_state=2028, n_init=10)\n",
    "    model.fit(X_train)\n",
    "    preds = model.predict(X_test)\n",
    "    preds = reassign(preds, y_test)\n",
    "    return len(y_test) - np.count_nonzero(preds == y_test)"
   ]
  },
  {
   "attachments": {},
   "cell_type": "markdown",
   "metadata": {},
   "source": [
    "### Evaluation\n",
    "\n",
    "We check the misclassification on a 5-fold cross validation split. We see our values line up very closely with sklearn, and are well beneath the threshold of 7 misclassified examples specified by the assignment. "
   ]
  },
  {
   "cell_type": "code",
   "execution_count": 6,
   "metadata": {},
   "outputs": [
    {
     "data": {
      "image/png": "[encoded data removed]",
      "text/plain": [
       "<Figure size 640x480 with 1 Axes>"
      ]
     },
     "metadata": {},
     "output_type": "display_data"
    }
   ],
   "source": [
    "import seaborn\n",
    "import pandas as pd \n",
    "import matplotlib.pyplot as plt\n",
    "\n",
    "plt.style.use('ggplot')\n",
    "COLORS = seaborn.color_palette()\n",
    "f, ax = plt.subplots()\n",
    "\n",
    "our_method = [run_experiment(df, x) for x in range(5)]\n",
    "benchmark = [sk_bench(df, x) for x in range(5)]\n",
    "method = ['Ours' for _ in range(5)] + ['Benchmark' for _ in range(5)]\n",
    "plot_df = pd.DataFrame.from_dict({'Errors': our_method + benchmark, 'Method': method, 'Trial': list(range(5)) + list(range(5))})\n",
    "ax.set_title('5-Fold Cross Validation Misclassified Examples')\n",
    "seaborn.barplot(data=plot_df, x='Trial', y='Errors', hue='Method', ax=ax, palette=COLORS)\n",
    "seaborn.move_legend(ax, \"lower center\")\n",
    "for container in ax.containers:\n",
    "    ax.bar_label(container)"
   ]
  },
  {
   "attachments": {},
   "cell_type": "markdown",
   "metadata": {},
   "source": [
    "Below, we visualize the clustering by projecting the original data into 2 dimensions. We can see that even though the information from 2 out 4 dimensions is lost the cluster centers are close to what we would visually expect, and the groups are relatively homogeneous, although in the bottom right there is some mixing between two of the cluster groups. In higher dimensions, these two clusters will be more cleanly partitioned."
   ]
  },
  {
   "cell_type": "code",
   "execution_count": 7,
   "metadata": {},
   "outputs": [
    {
     "data": {
      "image/png": "[encoded data removed]",
      "text/plain": [
       "<Figure size 640x480 with 1 Axes>"
      ]
     },
     "metadata": {},
     "output_type": "display_data"
    }
   ],
   "source": [
    "import seaborn \n",
    "import matplotlib.pyplot as plt\n",
    "\n",
    "plt.style.use('ggplot')\n",
    "COLORS = seaborn.color_palette()\n",
    "\n",
    "plt.figure()\n",
    "ax = seaborn.scatterplot(\n",
    "    x=[X[0] for X in X_test], y=[X[1] for X in X_test], hue=y_test,\n",
    "    style=preds, palette=COLORS[0:3], legend='full')\n",
    "plt.plot(\n",
    "    [x for x, _, _, _ in model.centroids], [y for _, y, _, _ in model.centroids], '+',\n",
    "    markersize=10, c='black')\n",
    "h, _ = ax.get_legend_handles_labels()\n",
    "labels = [ID_TO_NAME[x] for x in range(3)]\n",
    "plt.legend(handles=h, loc='upper center', labels=labels)\n",
    "plt.show()"
   ]
  },
  {
   "attachments": {},
   "cell_type": "markdown",
   "metadata": {},
   "source": [
    "## Gaussian Mixture Model\n",
    "We open by benchmarking the sklearn Gaussian Mixture Model (GMM). We can see on this split of the data sklearn successfully achieves quite similar mixing coefficients, meaning we should expect our implementation to achieve the same \n",
    "\n",
    "We follow the GMM formulation in the provided slides, using means and full covariance initialized by our kmeans clustering implementation. The 3 mixing coefficients are all initialized to 1/3. "
   ]
  },
  {
   "cell_type": "code",
   "execution_count": 8,
   "metadata": {},
   "outputs": [
    {
     "data": {
      "text/plain": [
       "array([0.30992451, 0.33333333, 0.35674215])"
      ]
     },
     "execution_count": 8,
     "metadata": {},
     "output_type": "execute_result"
    }
   ],
   "source": [
    "from sklearn.mixture import GaussianMixture\n",
    "df_train, df_test = fetch_data(df, 1)\n",
    "X_train, y_train = get_x_y(df_train)\n",
    "X_test, y_test = get_x_y(df_test)\n",
    "mix = GaussianMixture(n_components=3, covariance_type=\"full\")\n",
    "mix.fit(X_train, y_train)\n",
    "mix_preds = mix.predict(X_test)\n",
    "mix_preds = reassign(mix_preds, y_test)\n",
    "np.count_nonzero(mix_preds == y_test) / len(y_test)\n",
    "mix.weights_"
   ]
  },
  {
   "cell_type": "code",
   "execution_count": 9,
   "metadata": {},
   "outputs": [],
   "source": [
    "def normal_pdf(x, mu, sigma):\n",
    "    '''Calculate the pdf of the multivariate normal distribution N(x | μ, Σ)'''\n",
    "    k = len(mu)\n",
    "    # Assume x, mu are row vectors \n",
    "    denom1 = np.sqrt((2 * np.pi)**k * np.linalg.det(sigma))\n",
    "    mat1 = np.matmul((x - mu).T, np.linalg.inv(sigma)) \n",
    "    num1 = np.exp(-0.5 * np.matmul(mat1, (x - mu)))\n",
    "    return num1 / denom1\n",
    "\n",
    "class Mixture:\n",
    "    def __init__(self, mu, sigma, pi):\n",
    "        self.n_classes = len(mu)\n",
    "        self.mu = mu \n",
    "        self.sigma = sigma\n",
    "        self.pi = pi\n",
    "\n",
    "    def fit(self, X, steps=20):\n",
    "        N = X.shape[0]\n",
    "        resp = np.zeros((N, self.n_classes))\n",
    "\n",
    "        for _ in range(steps):\n",
    "\n",
    "            # E Step\n",
    "            for i in range(N):\n",
    "                x = X[i]\n",
    "                resp[i, :] = self.responsibility(x)\n",
    "            # M Step\n",
    "            n_ks = np.sum(resp, axis=0)\n",
    "            \n",
    "            # Update Mu\n",
    "            for k in range(self.n_classes):\n",
    "                total = np.zeros_like(self.mu[0])\n",
    "                for i in range(N):\n",
    "                    total += resp[i, k] * X[i]\n",
    "                total /= n_ks[k]\n",
    "                self.mu[k] = total\n",
    "            # Update Sigma\n",
    "            for k in range(self.n_classes):\n",
    "                total = np.zeros_like(self.sigma[0])\n",
    "                mean = self.mu[k]\n",
    "                for i in range(N):\n",
    "                    x = X[i]\n",
    "                    size = x.size\n",
    "                    # Reshape the vectors to allow for correct matrix multiplication\n",
    "                    a = np.reshape(x - mean, (size, 1))\n",
    "                    b = np.reshape(x - mean, (1, size))\n",
    "                    val = resp[i, k] * np.matmul(a, b)\n",
    "                    total += val\n",
    "                total /= n_ks[k]\n",
    "                self.sigma[k] = total\n",
    "            # Update Pi\n",
    "            self.pi = n_ks / N\n",
    "        return self.pi\n",
    "        \n",
    "\n",
    "    def responsibility(self, x):\n",
    "        nums = [self.pi[i] * normal_pdf(x, self.mu[i], self.sigma[i]) for i in range(self.n_classes)]\n",
    "        total = sum(nums)\n",
    "        return np.array(nums) / total"
   ]
  },
  {
   "cell_type": "code",
   "execution_count": 10,
   "metadata": {},
   "outputs": [
    {
     "data": {
      "text/plain": [
       "array([0.33333333, 0.35698147, 0.3096852 ])"
      ]
     },
     "execution_count": 10,
     "metadata": {},
     "output_type": "execute_result"
    }
   ],
   "source": [
    "def run_gmm(X_train, model):\n",
    "    # Initialize the means to the centroid values\n",
    "    centroids = [np.copy(x) for x in model.centroids]\n",
    "    clusters = np.array(model.clusters)\n",
    "    # Initialize each mixture coefficient with equal weight\n",
    "    pi = np.ones(3) / 3\n",
    "\n",
    "    # Initialize the covariance according to the covariance of features within each cluster\n",
    "    variance = [np.cov(X_train[(clusters == i)].T) for i in range(CLUSTERS)]\n",
    "    custom_mix = Mixture(centroids, variance, pi)\n",
    "    custom_coeff = custom_mix.fit(X_train)\n",
    "    return custom_mix, custom_coeff\n",
    "\n",
    "_, custom_coeff = run_gmm(X_train, model)\n",
    "custom_coeff"
   ]
  },
  {
   "cell_type": "code",
   "execution_count": 11,
   "metadata": {},
   "outputs": [
    {
     "name": "stdout",
     "output_type": "stream",
     "text": [
      "[0.35698147 0.33333333 0.3096852 ]\n"
     ]
    },
    {
     "data": {
      "image/png": "[encoded data removed]",
      "text/plain": [
       "<Figure size 640x480 with 1 Axes>"
      ]
     },
     "metadata": {},
     "output_type": "display_data"
    }
   ],
   "source": [
    "import seaborn\n",
    "import pandas as pd \n",
    "custom_coeff = np.sort(custom_coeff)[::-1]\n",
    "print(custom_coeff)\n",
    "sk_weights = np.sort(mix.weights_)\n",
    "sk_weights = sk_weights[::-1]\n",
    "plt.style.use('ggplot')\n",
    "f, ax = plt.subplots()\n",
    "NUMBER = 3\n",
    "method = [\"Ours\" for _ in range(NUMBER)] + [\"Benchmark\" for _ in range(NUMBER)]\n",
    "plot_df = pd.DataFrame.from_dict({\"Mixture Value\": custom_coeff.tolist() + sk_weights.tolist(), \n",
    "                                  \"Method\": method, \"Coefficient\": list(range(NUMBER)) + list(range(NUMBER))})\n",
    "ax.set_title(\"Gaussian Mixture Coefficients\")\n",
    "\n",
    "seaborn.barplot(data=plot_df, x=\"Coefficient\", y=\"Mixture Value\", hue=\"Method\", ax=ax)\n",
    "seaborn.move_legend(ax, 'lower center')\n",
    "plt.show()"
   ]
  },
  {
   "attachments": {},
   "cell_type": "markdown",
   "metadata": {},
   "source": [
    "### Gaussian Mixture Model Visualization\n",
    "\n",
    "We conclude by visualizing the 3 clusters of the gaussian mixture model in 2 dimensions. In order to do so, we perform PCA at the initial data fetching step using the training split of the data. Then we do the full K_means and GMM training on the 2 dimensional data. In 2D, each cluster can be drawn as an ellipse, with the means determining the center and the variances determining the lengths of both sides of the ellipse. Because the variance is measured in multiple dimensions in the GMM, even without considering the full covariance matrix we are able to construct a relatively complex shape."
   ]
  },
  {
   "cell_type": "code",
   "execution_count": 12,
   "metadata": {},
   "outputs": [
    {
     "data": {
      "text/plain": [
       "array([0.33333333, 0.32491195, 0.34175471])"
      ]
     },
     "execution_count": 12,
     "metadata": {},
     "output_type": "execute_result"
    }
   ],
   "source": [
    "# Use reduced dimensionality for visualization \n",
    "df_train, df_test = fetch_data(df, 1, dim=2)\n",
    "X_train, y_train = get_x_y(df_train)\n",
    "X_test, y_test = get_x_y(df_test)\n",
    "model = K_Means(n_clusters=CLUSTERS) \n",
    "model.fit(X_train)\n",
    "gmm, custom_coeff = run_gmm(X_train, model)\n",
    "custom_coeff"
   ]
  },
  {
   "cell_type": "code",
   "execution_count": 13,
   "metadata": {},
   "outputs": [
    {
     "data": {
      "image/png": "[encoded data removed]",
      "text/plain": [
       "<Figure size 640x480 with 1 Axes>"
      ]
     },
     "metadata": {},
     "output_type": "display_data"
    }
   ],
   "source": [
    "from matplotlib.patches import Ellipse\n",
    "COLORS = seaborn.color_palette()\n",
    "f, ax = plt.subplots()\n",
    "for cl in [0, 1, 2]:\n",
    "    ax.add_patch(Ellipse((gmm.mu[cl][0], gmm.mu[cl][1]), 4 * gmm.sigma[cl][0][0], 4 * gmm.sigma[cl][1][1], facecolor=COLORS[1]))\n",
    "seaborn.scatterplot({\"x\": X_test[:, 0], \"y\": X_test[:, 1]}, x=\"x\", y=\"y\", style=y_test, ax=ax)\n",
    "ax.set_ylabel(\"Dim 1\")\n",
    "ax.set_xlabel(\"Dim 0\")\n",
    "ax.set_title(\"GMM in 2D Visualized\")\n",
    "ax.get_legend().remove()\n",
    "plt.show()"
   ]
  }
 ],
 "metadata": {
  "kernelspec": {
   "display_name": "venv39",
   "language": "python",
   "name": "python3"
  },
  "language_info": {
   "codemirror_mode": {
    "name": "ipython",
    "version": 3
   },
   "file_extension": ".py",
   "mimetype": "text/x-python",
   "name": "python",
   "nbconvert_exporter": "python",
   "pygments_lexer": "ipython3",
   "version": "3.9.7"
  },
  "orig_nbformat": 4,
  "vscode": {
   "interpreter": {
    "hash": "969ebf785a6e67111ec7011bfe7988b7af4c3ba0a46745ea43db76e0b2432dc6"
   }
  }
 },
 "nbformat": 4,
 "nbformat_minor": 2
}
