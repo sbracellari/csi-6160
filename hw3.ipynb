{
 "cells": [
  {
   "cell_type": "code",
   "execution_count": 1,
   "metadata": {},
   "outputs": [
    {
     "data": {
      "text/plain": [
       "0.0"
      ]
     },
     "execution_count": 1,
     "metadata": {},
     "output_type": "execute_result"
    }
   ],
   "source": [
    "import polars as pl\n",
    "from sklearn.model_selection import KFold\n",
    "import numpy as np\n",
    "\n",
    "def fetch_data(df, use_split):\n",
    "    assert(use_split >= 0 and use_split <= 4)\n",
    "    # Perform 5-fold cross validation with a deterministic seed\n",
    "    kf = KFold(n_splits=5, shuffle=True, random_state=2023)\n",
    "    splits = list(kf.split(df))\n",
    "    # Indexing the dataframe with an array returns the appropriate splits\n",
    "    df_train, df_test = df[splits[use_split][0]], df[splits[use_split][1]]\n",
    "    for col in df_train.columns:\n",
    "        df_train, df_test = scale_column(df_train, df_test, col)\n",
    "    return df_train, df_test\n",
    "\n",
    "def scale_column(df_train, df_test, col_name):\n",
    "    max = df_train.get_column(col_name).max()\n",
    "    min = df_train.get_column(col_name).min()\n",
    "    df_train = df_train.with_columns((pl.col(col_name) - min) / (max - min))\n",
    "    df_test = df_test.with_columns((pl.col(col_name) - min) / (max - min))\n",
    "    return df_train, df_test\n",
    "\n",
    "f_name = 'crime.csv'\n",
    "df = pl.read_csv(f_name, has_header=True, sep=',') # comma separated data\n",
    "df_train, df_test = fetch_data(df, 0)\n",
    "# X, y = df.drop('CRIM'), df.get_column('CRIM')\n",
    "# X = X.with_columns(pl.col('RM').fill_null(pl.median('RM')))\n",
    "# X = X.with_columns(pl.lit(1.0).alias(\"CONSTANT\"))\n",
    "# print(X.head())\n",
    "\n",
    "def get_x_y(df):\n",
    "    X, y = df.drop('CRIM'), df.get_column('CRIM')\n",
    "    X = X.with_columns(pl.col('RM').fill_null(pl.median('RM')))\n",
    "    X = X.with_columns(pl.lit(1.0).alias(\"CONSTANT\"))\n",
    "    return X.to_numpy(), y.to_numpy()\n",
    "X_train, y_train = get_x_y(df_train)\n",
    "X_test, y_test = get_x_y(df_test)\n",
    "# X_train, X_test, y_train, y_test = train_test_split(X, y, test_size = 0.2, random_state = 2023)\n",
    "# X_train, X_test = X_train.to_numpy(), X_test.to_numpy()\n",
    "# y_train, y_test = y_train.to_numpy(), y_test.to_numpy()\n",
    "y_train[0]"
   ]
  },
  {
   "cell_type": "code",
   "execution_count": 2,
   "metadata": {},
   "outputs": [
    {
     "data": {
      "text/plain": [
       "SeriesView(0.)"
      ]
     },
     "execution_count": 2,
     "metadata": {},
     "output_type": "execute_result"
    }
   ],
   "source": [
    "y_train.min()"
   ]
  },
  {
   "cell_type": "code",
   "execution_count": 3,
   "metadata": {},
   "outputs": [],
   "source": [
    "# l = [1e-5, 1e-4, 1e-3, 1e-2, 1e-1, 1, 1e1, 1e2, 1e3, 1e4] # todo: choose lambda values\n",
    "l = np.logspace(-5, 5)\n",
    "\n",
    "def linear_regression(X, y, lambdas):\n",
    "    weights = []\n",
    "    phi = X\n",
    "    I = np.eye(X.shape[1])\n",
    "    for l in lambdas:\n",
    "        inside_part = np.linalg.inv(l*I + np.matmul(phi.T, phi))\n",
    "        w = np.matmul(np.matmul(inside_part, phi.T), y)\n",
    "        weights.append(w)\n",
    "    return weights\n",
    "\n",
    "weights = linear_regression(X_train, y_train, l)"
   ]
  },
  {
   "cell_type": "code",
   "execution_count": 4,
   "metadata": {},
   "outputs": [
    {
     "data": {
      "text/plain": [
       "(5, 50)"
      ]
     },
     "execution_count": 4,
     "metadata": {},
     "output_type": "execute_result"
    }
   ],
   "source": [
    "def score(X, y, w):\n",
    "    preds = []\n",
    "    for x in X:\n",
    "        preds.append(np.dot(x, w))\n",
    "    preds = np.array(preds)\n",
    "    u = ((y - preds)**2).sum()\n",
    "    v = ((y - y.mean())**2).sum()\n",
    "    r2 = 1 - (u/v)\n",
    "    return r2\n",
    "\n",
    "def run_experiment(df, use_split, lambdas):\n",
    "    df_train, df_test = fetch_data(df, use_split)\n",
    "    X_train, y_train = get_x_y(df_train)\n",
    "    X_test, y_test = get_x_y(df_test)\n",
    "    all_weights = linear_regression(X_train, y_train, lambdas)\n",
    "    scores = [score(X_test, y_test, w).item() for w in all_weights]\n",
    "    return np.array(scores)\n",
    "\n",
    "def sk_bench(df, use_split):\n",
    "    from sklearn import linear_model\n",
    "    df_train, df_test = fetch_data(df, use_split)\n",
    "    X_train, y_train = get_x_y(df_train)\n",
    "    X_test, y_test = get_x_y(df_test)\n",
    "    # solver = \"sag\"\n",
    "    solver = \"cholesky\"\n",
    "    reg = linear_model.Ridge(alpha = 0.5, solver=solver)\n",
    "    reg.fit(X_train, y_train)\n",
    "    return reg.score(X_test, y_test)\n",
    "\n",
    "perf = [run_experiment(df, x, l) for x in range(5)]\n",
    "out = np.stack(perf)\n",
    "out.shape"
   ]
  },
  {
   "cell_type": "code",
   "execution_count": 5,
   "metadata": {},
   "outputs": [
    {
     "name": "stdout",
     "output_type": "stream",
     "text": [
      "Best: 25\n",
      "Best Score: 0.4862718815487477\n"
     ]
    }
   ],
   "source": [
    "print(f\"Best: {out.mean(axis=0).argmax()}\")\n",
    "print(f\"Best Score: {out.mean(axis=0).max()}\")\n",
    "# 16\n",
    "# 0.48078"
   ]
  },
  {
   "cell_type": "code",
   "execution_count": 6,
   "metadata": {},
   "outputs": [
    {
     "data": {
      "text/plain": [
       "1.2648552168552958"
      ]
     },
     "execution_count": 6,
     "metadata": {},
     "output_type": "execute_result"
    }
   ],
   "source": [
    "l[25]"
   ]
  },
  {
   "cell_type": "code",
   "execution_count": 7,
   "metadata": {},
   "outputs": [],
   "source": [
    "import seaborn\n",
    "COLORS = seaborn.color_palette()\n",
    "# COLORS = [(x[0] / 255.0, x[1] / 255.0, x[2] / 255.0, x[3]) for x in COLORS]\n",
    "# COLORS = [\"#5585a8\", \"#be614e\"]"
   ]
  },
  {
   "cell_type": "code",
   "execution_count": 8,
   "metadata": {},
   "outputs": [
    {
     "data": {
      "text/plain": [
       "Text(0.5, 1.0, 'Weight Decay')"
      ]
     },
     "execution_count": 8,
     "metadata": {},
     "output_type": "execute_result"
    },
    {
     "data": {
      "image/png": "[encoded data removed]",
      "text/plain": [
       "<Figure size 640x480 with 1 Axes>"
      ]
     },
     "metadata": {},
     "output_type": "display_data"
    }
   ],
   "source": [
    "import matplotlib.pyplot as plt\n",
    "plt.style.use('ggplot')\n",
    "f, ax = plt.subplots()\n",
    "ax.plot(l, [np.linalg.norm(x) for x in weights], color=COLORS[0])\n",
    "ax.vlines(l[out.mean(axis=0).argmax()], ymin=ax.get_ylim()[0], ymax=ax.get_ylim()[1], color=COLORS[1])\n",
    "ax.set_xscale(\"log\")\n",
    "ax.set_ylabel(\"Weights Norm\")\n",
    "ax.set_xlabel(\"λ Value\")\n",
    "ax.set_title(\"Weight Decay\")"
   ]
  },
  {
   "cell_type": "code",
   "execution_count": 9,
   "metadata": {},
   "outputs": [
    {
     "data": {
      "text/plain": [
       "<AxesSubplot: title={'center': '5-Fold Cross Validation R^2 Score'}, xlabel='Trial', ylabel='R^2'>"
      ]
     },
     "execution_count": 9,
     "metadata": {},
     "output_type": "execute_result"
    },
    {
     "data": {
      "image/png": "[encoded data removed]",
      "text/plain": [
       "<Figure size 640x480 with 1 Axes>"
      ]
     },
     "metadata": {},
     "output_type": "display_data"
    }
   ],
   "source": [
    "import seaborn\n",
    "import pandas as pd \n",
    "plt.style.use('ggplot')\n",
    "f, ax = plt.subplots()\n",
    "our_method = out.max(axis=1).tolist()\n",
    "benchmark = [sk_bench(df, x) for x in range(5)]\n",
    "method = [\"Ours\" for _ in range(5)] + [\"Benchmark\" for _ in range(5)]\n",
    "plot_df = pd.DataFrame.from_dict({\"R^2\": our_method + benchmark, \"Method\": method, \"Trial\": list(range(5)) + list(range(5))})\n",
    "# ax.set_ylim(0.7, 0.88)\n",
    "ax.set_title(\"5-Fold Cross Validation R^2 Score\")\n",
    "seaborn.barplot(data=plot_df, x=\"Trial\", y=\"R^2\", hue=\"Method\", ax=ax, palette=COLORS)"
   ]
  },
  {
   "cell_type": "code",
   "execution_count": 10,
   "metadata": {},
   "outputs": [],
   "source": [
    "def score(X, y, w):\n",
    "    preds = []\n",
    "    for x in X:\n",
    "        preds.append(np.dot(x, w))\n",
    "    preds = np.array(preds)\n",
    "    u = ((y - preds)**2).sum()\n",
    "    v = ((y - y.mean())**2).sum()\n",
    "    r2 = 1 - (u/v)\n",
    "    return r2\n",
    "\n",
    "scores = [score(X_test, y_test, w) for w in weights]"
   ]
  },
  {
   "cell_type": "code",
   "execution_count": 11,
   "metadata": {},
   "outputs": [
    {
     "name": "stdout",
     "output_type": "stream",
     "text": [
      "0.6620215262328881\n",
      "coef [ 0.0476652  -0.01908966 -0.01271294 -0.0468053   0.00766503  0.00746123\n",
      " -0.10435697  0.14716651 -0.01165505 -0.02254665 -0.04176839  0.09674795\n",
      " -0.11246046  0.        ]\n",
      "intercept 0.09488734237867957\n"
     ]
    },
    {
     "ename": "NameError",
     "evalue": "name 'y' is not defined",
     "output_type": "error",
     "traceback": [
      "\u001b[0;31m---------------------------------------------------------------------------\u001b[0m",
      "\u001b[0;31mNameError\u001b[0m                                 Traceback (most recent call last)",
      "Cell \u001b[0;32mIn[11], line 10\u001b[0m\n\u001b[1;32m      7\u001b[0m \u001b[39mprint\u001b[39m(\u001b[39m'\u001b[39m\u001b[39mcoef\u001b[39m\u001b[39m'\u001b[39m, reg\u001b[39m.\u001b[39mcoef_)\n\u001b[1;32m      8\u001b[0m \u001b[39mprint\u001b[39m(\u001b[39m'\u001b[39m\u001b[39mintercept\u001b[39m\u001b[39m'\u001b[39m, reg\u001b[39m.\u001b[39mintercept_)\n\u001b[0;32m---> 10\u001b[0m \u001b[39mprint\u001b[39m(y\u001b[39m.\u001b[39mmean())\n\u001b[1;32m     11\u001b[0m \u001b[39mprint\u001b[39m(y\u001b[39m.\u001b[39mstd())\n",
      "\u001b[0;31mNameError\u001b[0m: name 'y' is not defined"
     ]
    }
   ],
   "source": [
    "from sklearn import linear_model\n",
    "\n",
    "reg = linear_model.Ridge(alpha = 0.5)\n",
    "reg.fit(X_train, y_train)\n",
    "\n",
    "print(reg.score(X_test, y_test))\n",
    "print('coef', reg.coef_)\n",
    "print('intercept', reg.intercept_)\n",
    "\n",
    "print(y.mean())\n",
    "print(y.std())"
   ]
  }
 ],
 "metadata": {
  "kernelspec": {
   "display_name": "lightning",
   "language": "python",
   "name": "python3"
  },
  "language_info": {
   "codemirror_mode": {
    "name": "ipython",
    "version": 3
   },
   "file_extension": ".py",
   "mimetype": "text/x-python",
   "name": "python",
   "nbconvert_exporter": "python",
   "pygments_lexer": "ipython3",
   "version": "3.10.9"
  },
  "orig_nbformat": 4,
  "vscode": {
   "interpreter": {
    "hash": "3b3ac4f165dd888171771316b43e76578a4a4463e6a4b92e07e5d333979bdd5c"
   }
  }
 },
 "nbformat": 4,
 "nbformat_minor": 2
}
