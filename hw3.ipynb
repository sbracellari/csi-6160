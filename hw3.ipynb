{
 "cells": [
  {
   "cell_type": "code",
   "execution_count": 95,
   "metadata": {},
   "outputs": [],
   "source": [
    "import polars as pl\n",
    "from sklearn.model_selection import train_test_split\n",
    "import numpy as np\n",
    "\n",
    "f_name = 'data.csv'\n",
    "df = pl.read_csv(f_name, has_header=True, sep=',') # comma separated data\n",
    "X, y = df.drop('CRIM'), df.get_column('CRIM')\n",
    "X = X.with_columns(pl.col('RM').fill_null(pl.median('RM')),)\n",
    "\n",
    "X_train, X_test, y_train, y_test = train_test_split(X, y, test_size = 0.2, random_state = 2023)\n",
    "X_train, X_test = X_train.to_numpy(), X_test.to_numpy()\n",
    "y_train, y_test = y_train.to_numpy(), y_test.to_numpy()"
   ]
  },
  {
   "cell_type": "code",
   "execution_count": 103,
   "metadata": {},
   "outputs": [],
   "source": [
    "l = [1e-2, 1e-1, 1, 1e1, 1e2, 1e3, 1e4] # todo: choose lambda values\n",
    "\n",
    "def linear_regression(X, y, lambdas):\n",
    "    weights = []\n",
    "    phi = X\n",
    "    I = np.eye(X.shape[1])\n",
    "    for l in lambdas:\n",
    "        inside_part = np.linalg.inv(l*I + np.matmul(phi.T, phi))\n",
    "        w = np.matmul(np.matmul(inside_part, phi.T), y)\n",
    "        weights.append(w)\n",
    "    return weights\n",
    "\n",
    "weights = linear_regression(X_train, y_train, l)"
   ]
  },
  {
   "cell_type": "code",
   "execution_count": 104,
   "metadata": {},
   "outputs": [
    {
     "data": {
      "text/plain": [
       "[SeriesView(0.6458918),\n",
       " SeriesView(0.64606729),\n",
       " SeriesView(0.64712548),\n",
       " SeriesView(0.64963495),\n",
       " SeriesView(0.65362169),\n",
       " SeriesView(0.6515999),\n",
       " SeriesView(0.60433599)]"
      ]
     },
     "execution_count": 104,
     "metadata": {},
     "output_type": "execute_result"
    }
   ],
   "source": [
    "def score(X, y, w):\n",
    "    preds = []\n",
    "    for x in X:\n",
    "        preds.append(np.dot(x, w))\n",
    "    preds = np.array(preds)\n",
    "    u = ((y - preds)**2).sum()\n",
    "    v = ((y - y.mean())**2).sum()\n",
    "    r2 = 1 - (u/v)\n",
    "    return r2\n",
    "\n",
    "scores = [score(X_test, y_test, w) for w in weights]\n",
    "scores"
   ]
  },
  {
   "cell_type": "code",
   "execution_count": 102,
   "metadata": {},
   "outputs": [
    {
     "name": "stdout",
     "output_type": "stream",
     "text": [
      "0.655139480215041\n",
      "coef [ 4.89336777e-02 -7.69160128e-02 -1.11339495e+00 -7.74148758e+00\n",
      "  3.36686359e-01  9.15322510e-04 -9.65475754e-01  6.06510642e-01\n",
      " -4.43596486e-03 -1.99097686e-01 -8.64132516e-03  1.36950240e-01\n",
      " -1.85077068e-01]\n",
      "intercept 15.102402999255764\n",
      "3.584138577299413\n",
      "8.564433333509855\n"
     ]
    }
   ],
   "source": [
    "from sklearn import linear_model\n",
    "\n",
    "reg = linear_model.Ridge(alpha = 0.5)\n",
    "reg.fit(X_train, y_train)\n",
    "\n",
    "print(reg.score(X_test, y_test))\n",
    "print('coef', reg.coef_)\n",
    "print('intercept', reg.intercept_)\n",
    "\n",
    "print(y.mean())\n",
    "print(y.std())"
   ]
  }
 ],
 "metadata": {
  "kernelspec": {
   "display_name": "venv39",
   "language": "python",
   "name": "python3"
  },
  "language_info": {
   "codemirror_mode": {
    "name": "ipython",
    "version": 3
   },
   "file_extension": ".py",
   "mimetype": "text/x-python",
   "name": "python",
   "nbconvert_exporter": "python",
   "pygments_lexer": "ipython3",
   "version": "3.9.7"
  },
  "orig_nbformat": 4,
  "vscode": {
   "interpreter": {
    "hash": "969ebf785a6e67111ec7011bfe7988b7af4c3ba0a46745ea43db76e0b2432dc6"
   }
  }
 },
 "nbformat": 4,
 "nbformat_minor": 2
}
