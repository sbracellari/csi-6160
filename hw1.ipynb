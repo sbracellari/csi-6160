{
 "cells": [
  {
   "cell_type": "code",
   "execution_count": 74,
   "metadata": {},
   "outputs": [],
   "source": [
    "import numpy as np\n",
    "from sklearn.datasets import load_breast_cancer\n",
    "from sklearn.linear_model import Perceptron\n",
    "from sklearn.decomposition import TruncatedSVD"
   ]
  },
  {
   "cell_type": "code",
   "execution_count": 75,
   "metadata": {},
   "outputs": [],
   "source": [
    "data = load_breast_cancer()\n",
    "X = data[\"data\"]\n",
    "Y = data[\"target\"]\n",
    "weights = np.zeros(X.shape[1] + 1)"
   ]
  },
  {
   "cell_type": "code",
   "execution_count": 81,
   "metadata": {},
   "outputs": [],
   "source": [
    "def train_loop(X, Y, num_epoch=100, use_bias=True):\n",
    "    if use_bias:\n",
    "        weights = np.zeros(X.shape[1] + 1)\n",
    "    else:\n",
    "        weights = np.zeros(X.shape[1])\n",
    "    for epoch in range(num_epoch):\n",
    "        # if epoch % 50 == 0:\n",
    "        #     np.random.shuffle(X)\n",
    "        correct = 0\n",
    "        for x, y in zip(X, Y):\n",
    "            if use_bias:\n",
    "                x = np.append(x, np.ones(1, dtype=np.float32))\n",
    "            # 1 = positive, 0 = negative\n",
    "            pred = int(x.dot(weights) >= 0.0)\n",
    "            if pred != y:\n",
    "                # Mistake\n",
    "                if y == 1:\n",
    "                    weights += x \n",
    "                else:\n",
    "                    weights -= x\n",
    "            else:\n",
    "                correct += 1\n",
    "            # print(weights)\n",
    "        if epoch % 10 == 0:\n",
    "            print(f\"Train Accuracy: {100 * correct / len(X):.1f}%\")\n",
    "    return weights"
   ]
  },
  {
   "cell_type": "code",
   "execution_count": 88,
   "metadata": {},
   "outputs": [
    {
     "name": "stdout",
     "output_type": "stream",
     "text": [
      "Train Accuracy: 70.5%\n",
      "Train Accuracy: 85.6%\n",
      "Train Accuracy: 88.6%\n",
      "Train Accuracy: 87.9%\n",
      "Train Accuracy: 88.4%\n",
      "Train Accuracy: 89.1%\n",
      "Train Accuracy: 89.3%\n",
      "Train Accuracy: 89.5%\n",
      "Train Accuracy: 91.4%\n",
      "Train Accuracy: 90.0%\n"
     ]
    },
    {
     "data": {
      "text/plain": [
       "array([ 4.87601200e+03, -1.85643000e+03,  2.40514900e+04,  3.59900000e+03,\n",
       "        1.86168400e+01, -1.42313410e+02, -2.66954281e+02, -9.74190140e+01,\n",
       "        3.45498000e+01,  2.18108200e+01,  3.37082000e+01, -3.12494000e+02,\n",
       "       -5.14361600e+02, -1.01031000e+04, -2.70530700e+00, -4.10973890e+01,\n",
       "       -6.38804466e+01, -1.22294320e+01, -7.25501700e+00, -2.21569420e+00,\n",
       "        5.30702600e+03, -4.38641000e+03,  2.05585100e+04, -9.47200000e+03,\n",
       "        9.64045000e+00, -4.86735010e+02, -7.12332076e+02, -1.66050518e+02,\n",
       "       -2.18852000e+01, -5.42300000e+00,  6.47000000e+02])"
      ]
     },
     "execution_count": 88,
     "metadata": {},
     "output_type": "execute_result"
    }
   ],
   "source": [
    "weights = train_loop(data[\"data\"], data[\"target\"])\n",
    "weights"
   ]
  },
  {
   "cell_type": "code",
   "execution_count": 82,
   "metadata": {},
   "outputs": [],
   "source": [
    "svd = TruncatedSVD()\n",
    "small = svd.fit_transform(X)"
   ]
  },
  {
   "cell_type": "code",
   "execution_count": 85,
   "metadata": {},
   "outputs": [
    {
     "name": "stdout",
     "output_type": "stream",
     "text": [
      "Train Accuracy: 68.7%\n",
      "Train Accuracy: 79.4%\n",
      "Train Accuracy: 79.6%\n",
      "Train Accuracy: 78.0%\n",
      "Train Accuracy: 79.6%\n",
      "Train Accuracy: 80.0%\n",
      "Train Accuracy: 79.4%\n",
      "Train Accuracy: 79.6%\n",
      "Train Accuracy: 79.8%\n",
      "Train Accuracy: 79.6%\n"
     ]
    }
   ],
   "source": [
    "small_weights = train_loop(small, Y, use_bias=False)"
   ]
  },
  {
   "cell_type": "code",
   "execution_count": 86,
   "metadata": {},
   "outputs": [
    {
     "data": {
      "text/plain": [
       "array([  -878.71376085, -13645.83604225])"
      ]
     },
     "execution_count": 86,
     "metadata": {},
     "output_type": "execute_result"
    }
   ],
   "source": [
    "small_weights"
   ]
  },
  {
   "cell_type": "code",
   "execution_count": 97,
   "metadata": {},
   "outputs": [],
   "source": [
    "rotated = np.zeros_like(small_weights) \n",
    "rotated[0] = small_weights[1]\n",
    "rotated[1] = -1.0 * small_weights[0]"
   ]
  },
  {
   "cell_type": "code",
   "execution_count": 98,
   "metadata": {},
   "outputs": [
    {
     "data": {
      "text/plain": [
       "array([-13645.83604225,    878.71376085])"
      ]
     },
     "execution_count": 98,
     "metadata": {},
     "output_type": "execute_result"
    }
   ],
   "source": [
    "rotated"
   ]
  },
  {
   "cell_type": "code",
   "execution_count": 99,
   "metadata": {},
   "outputs": [
    {
     "data": {
      "text/plain": [
       "-0.06439427808798381"
      ]
     },
     "execution_count": 99,
     "metadata": {},
     "output_type": "execute_result"
    }
   ],
   "source": [
    "rotated[1] / rotated[0]"
   ]
  },
  {
   "cell_type": "code",
   "execution_count": 90,
   "metadata": {},
   "outputs": [],
   "source": [
    "import matplotlib.pyplot as plt"
   ]
  },
  {
   "cell_type": "code",
   "execution_count": 101,
   "metadata": {},
   "outputs": [
    {
     "data": {
      "text/plain": [
       "[<matplotlib.lines.Line2D at 0x250b9d065f0>]"
      ]
     },
     "execution_count": 101,
     "metadata": {},
     "output_type": "execute_result"
    },
    {
     "data": {
      "image/png": "[encoded data removed]",
      "text/plain": [
       "<Figure size 640x480 with 1 Axes>"
      ]
     },
     "metadata": {},
     "output_type": "display_data"
    }
   ],
   "source": [
    "f, ax = plt.subplots()\n",
    "ax.scatter(small[:, 0], small[:, 1], c=Y)\n",
    "line_x = np.linspace(0, 5000, 5)\n",
    "line_y = line_x * (rotated[1] / rotated[0])\n",
    "ax.plot(line_x, line_y)"
   ]
  }
 ],
 "metadata": {
  "kernelspec": {
   "display_name": "sk",
   "language": "python",
   "name": "python3"
  },
  "language_info": {
   "codemirror_mode": {
    "name": "ipython",
    "version": 3
   },
   "file_extension": ".py",
   "mimetype": "text/x-python",
   "name": "python",
   "nbconvert_exporter": "python",
   "pygments_lexer": "ipython3",
   "version": "3.10.9"
  },
  "orig_nbformat": 4,
  "vscode": {
   "interpreter": {
    "hash": "a64731e6f951c3efcd8f077cd06984c66b3d9d46e06507db3babb98e2e2eb9ea"
   }
  }
 },
 "nbformat": 4,
 "nbformat_minor": 2
}
